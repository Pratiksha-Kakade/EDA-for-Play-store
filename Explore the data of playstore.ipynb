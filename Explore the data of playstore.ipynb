{
 "cells": [
  {
   "cell_type": "markdown",
   "id": "0ffc4fc4",
   "metadata": {},
   "source": [
    "Here we are using the Google Playstore dataset, which contains details about the Apps in playstore, there are more than 10,0000+  Apps in the playstore.The size of the dataset is 210Mb.\n",
    "\n",
    "The main objective of this project is to deliver insights to understand customer demands better and thus help developers to popularize the product.\n",
    "\n",
    "The dataset we are using is taken from the Kaggle, the link of the dataset is given below\n",
    "\n",
    "↪ Exploratory Data Analysis on Google playstore dataset"
   ]
  },
  {
   "cell_type": "markdown",
   "id": "fa6ec0b2",
   "metadata": {},
   "source": [
    "# Importing the dependecies"
   ]
  },
  {
   "cell_type": "code",
   "execution_count": 1,
   "id": "dd1cbfc9",
   "metadata": {},
   "outputs": [],
   "source": [
    "import pandas as pd\n",
    "import numpy as np\n",
    "import matplotlib.pyplot as plt\n",
    "import seaborn as sns\n",
    "%matplotlib inline"
   ]
  },
  {
   "cell_type": "markdown",
   "id": "fd30d8e5",
   "metadata": {},
   "source": [
    "# Data Preparation and Cleaning\n",
    "#### ↪ Load the csv file with the pandas\n",
    "\n",
    "#### ↪ creating the dataframe and understanding the data present in the dataset\n",
    "\n",
    "#### ↪ Dealing with the missing data and the incorrect records"
   ]
  },
  {
   "cell_type": "code",
   "execution_count": 7,
   "id": "b47ca108",
   "metadata": {},
   "outputs": [],
   "source": [
    "df = pd.read_csv('Google-Playstore.csv')"
   ]
  },
  {
   "cell_type": "code",
   "execution_count": 8,
   "id": "e594a141",
   "metadata": {},
   "outputs": [
    {
     "data": {
      "text/html": [
       "<div>\n",
       "<style scoped>\n",
       "    .dataframe tbody tr th:only-of-type {\n",
       "        vertical-align: middle;\n",
       "    }\n",
       "\n",
       "    .dataframe tbody tr th {\n",
       "        vertical-align: top;\n",
       "    }\n",
       "\n",
       "    .dataframe thead th {\n",
       "        text-align: right;\n",
       "    }\n",
       "</style>\n",
       "<table border=\"1\" class=\"dataframe\">\n",
       "  <thead>\n",
       "    <tr style=\"text-align: right;\">\n",
       "      <th></th>\n",
       "      <th>App Name</th>\n",
       "      <th>App Id</th>\n",
       "      <th>Category</th>\n",
       "      <th>Rating</th>\n",
       "      <th>Rating Count</th>\n",
       "      <th>Installs</th>\n",
       "      <th>Minimum Installs</th>\n",
       "      <th>Maximum Installs</th>\n",
       "      <th>Free</th>\n",
       "      <th>Price</th>\n",
       "      <th>...</th>\n",
       "      <th>Developer Website</th>\n",
       "      <th>Developer Email</th>\n",
       "      <th>Released</th>\n",
       "      <th>Last Updated</th>\n",
       "      <th>Content Rating</th>\n",
       "      <th>Privacy Policy</th>\n",
       "      <th>Ad Supported</th>\n",
       "      <th>In App Purchases</th>\n",
       "      <th>Editors Choice</th>\n",
       "      <th>Scraped Time</th>\n",
       "    </tr>\n",
       "  </thead>\n",
       "  <tbody>\n",
       "    <tr>\n",
       "      <th>0</th>\n",
       "      <td>Gakondo</td>\n",
       "      <td>com.ishakwe.gakondo</td>\n",
       "      <td>Adventure</td>\n",
       "      <td>0.0</td>\n",
       "      <td>0.0</td>\n",
       "      <td>10+</td>\n",
       "      <td>10.0</td>\n",
       "      <td>15</td>\n",
       "      <td>True</td>\n",
       "      <td>0.0</td>\n",
       "      <td>...</td>\n",
       "      <td>https://beniyizibyose.tk/#/</td>\n",
       "      <td>jean21101999@gmail.com</td>\n",
       "      <td>Feb 26, 2020</td>\n",
       "      <td>Feb 26, 2020</td>\n",
       "      <td>Everyone</td>\n",
       "      <td>https://beniyizibyose.tk/projects/</td>\n",
       "      <td>False</td>\n",
       "      <td>False</td>\n",
       "      <td>False</td>\n",
       "      <td>2021-06-15 20:19:35</td>\n",
       "    </tr>\n",
       "    <tr>\n",
       "      <th>1</th>\n",
       "      <td>Ampere Battery Info</td>\n",
       "      <td>com.webserveis.batteryinfo</td>\n",
       "      <td>Tools</td>\n",
       "      <td>4.4</td>\n",
       "      <td>64.0</td>\n",
       "      <td>5,000+</td>\n",
       "      <td>5000.0</td>\n",
       "      <td>7662</td>\n",
       "      <td>True</td>\n",
       "      <td>0.0</td>\n",
       "      <td>...</td>\n",
       "      <td>https://webserveis.netlify.app/</td>\n",
       "      <td>webserveis@gmail.com</td>\n",
       "      <td>May 21, 2020</td>\n",
       "      <td>May 06, 2021</td>\n",
       "      <td>Everyone</td>\n",
       "      <td>https://dev4phones.wordpress.com/licencia-de-uso/</td>\n",
       "      <td>True</td>\n",
       "      <td>False</td>\n",
       "      <td>False</td>\n",
       "      <td>2021-06-15 20:19:35</td>\n",
       "    </tr>\n",
       "    <tr>\n",
       "      <th>2</th>\n",
       "      <td>Vibook</td>\n",
       "      <td>com.doantiepvien.crm</td>\n",
       "      <td>Productivity</td>\n",
       "      <td>0.0</td>\n",
       "      <td>0.0</td>\n",
       "      <td>50+</td>\n",
       "      <td>50.0</td>\n",
       "      <td>58</td>\n",
       "      <td>True</td>\n",
       "      <td>0.0</td>\n",
       "      <td>...</td>\n",
       "      <td>NaN</td>\n",
       "      <td>vnacrewit@gmail.com</td>\n",
       "      <td>Aug 9, 2019</td>\n",
       "      <td>Aug 19, 2019</td>\n",
       "      <td>Everyone</td>\n",
       "      <td>https://www.vietnamairlines.com/vn/en/terms-an...</td>\n",
       "      <td>False</td>\n",
       "      <td>False</td>\n",
       "      <td>False</td>\n",
       "      <td>2021-06-15 20:19:35</td>\n",
       "    </tr>\n",
       "    <tr>\n",
       "      <th>3</th>\n",
       "      <td>Smart City Trichy Public Service Vehicles 17UC...</td>\n",
       "      <td>cst.stJoseph.ug17ucs548</td>\n",
       "      <td>Communication</td>\n",
       "      <td>5.0</td>\n",
       "      <td>5.0</td>\n",
       "      <td>10+</td>\n",
       "      <td>10.0</td>\n",
       "      <td>19</td>\n",
       "      <td>True</td>\n",
       "      <td>0.0</td>\n",
       "      <td>...</td>\n",
       "      <td>http://www.climatesmarttech.com/</td>\n",
       "      <td>climatesmarttech2@gmail.com</td>\n",
       "      <td>Sep 10, 2018</td>\n",
       "      <td>Oct 13, 2018</td>\n",
       "      <td>Everyone</td>\n",
       "      <td>NaN</td>\n",
       "      <td>True</td>\n",
       "      <td>False</td>\n",
       "      <td>False</td>\n",
       "      <td>2021-06-15 20:19:35</td>\n",
       "    </tr>\n",
       "    <tr>\n",
       "      <th>4</th>\n",
       "      <td>GROW.me</td>\n",
       "      <td>com.horodyski.grower</td>\n",
       "      <td>Tools</td>\n",
       "      <td>0.0</td>\n",
       "      <td>0.0</td>\n",
       "      <td>100+</td>\n",
       "      <td>100.0</td>\n",
       "      <td>478</td>\n",
       "      <td>True</td>\n",
       "      <td>0.0</td>\n",
       "      <td>...</td>\n",
       "      <td>http://www.horodyski.com.pl</td>\n",
       "      <td>rmilekhorodyski@gmail.com</td>\n",
       "      <td>Feb 21, 2020</td>\n",
       "      <td>Nov 12, 2018</td>\n",
       "      <td>Everyone</td>\n",
       "      <td>http://www.horodyski.com.pl</td>\n",
       "      <td>False</td>\n",
       "      <td>False</td>\n",
       "      <td>False</td>\n",
       "      <td>2021-06-15 20:19:35</td>\n",
       "    </tr>\n",
       "    <tr>\n",
       "      <th>...</th>\n",
       "      <td>...</td>\n",
       "      <td>...</td>\n",
       "      <td>...</td>\n",
       "      <td>...</td>\n",
       "      <td>...</td>\n",
       "      <td>...</td>\n",
       "      <td>...</td>\n",
       "      <td>...</td>\n",
       "      <td>...</td>\n",
       "      <td>...</td>\n",
       "      <td>...</td>\n",
       "      <td>...</td>\n",
       "      <td>...</td>\n",
       "      <td>...</td>\n",
       "      <td>...</td>\n",
       "      <td>...</td>\n",
       "      <td>...</td>\n",
       "      <td>...</td>\n",
       "      <td>...</td>\n",
       "      <td>...</td>\n",
       "      <td>...</td>\n",
       "    </tr>\n",
       "    <tr>\n",
       "      <th>2312939</th>\n",
       "      <td>大俠客—熱血歸來</td>\n",
       "      <td>com.rxsj.ssjj</td>\n",
       "      <td>Role Playing</td>\n",
       "      <td>4.3</td>\n",
       "      <td>16775.0</td>\n",
       "      <td>100,000+</td>\n",
       "      <td>100000.0</td>\n",
       "      <td>337109</td>\n",
       "      <td>True</td>\n",
       "      <td>0.0</td>\n",
       "      <td>...</td>\n",
       "      <td>http://www.4399sy.com.hk/</td>\n",
       "      <td>ssjjcomhk@gmail.com</td>\n",
       "      <td>NaN</td>\n",
       "      <td>Jun 01, 2021</td>\n",
       "      <td>Teen</td>\n",
       "      <td>http://a.4399sy.com.hk/user/aggreement</td>\n",
       "      <td>False</td>\n",
       "      <td>False</td>\n",
       "      <td>False</td>\n",
       "      <td>2021-06-16 12:59:18</td>\n",
       "    </tr>\n",
       "    <tr>\n",
       "      <th>2312940</th>\n",
       "      <td>ORU Online</td>\n",
       "      <td>com.threedream.oruonline</td>\n",
       "      <td>Education</td>\n",
       "      <td>0.0</td>\n",
       "      <td>0.0</td>\n",
       "      <td>100+</td>\n",
       "      <td>100.0</td>\n",
       "      <td>430</td>\n",
       "      <td>True</td>\n",
       "      <td>0.0</td>\n",
       "      <td>...</td>\n",
       "      <td>http://www.oru.edu/</td>\n",
       "      <td>3DreamDeveloper@gmail.com</td>\n",
       "      <td>Jan 17, 2018</td>\n",
       "      <td>Feb 02, 2018</td>\n",
       "      <td>Everyone</td>\n",
       "      <td>http://www.oru.edu/about-oru/privacy-policy.php</td>\n",
       "      <td>False</td>\n",
       "      <td>False</td>\n",
       "      <td>False</td>\n",
       "      <td>2021-06-16 12:59:19</td>\n",
       "    </tr>\n",
       "    <tr>\n",
       "      <th>2312941</th>\n",
       "      <td>Data Structure</td>\n",
       "      <td>datastructure.appoworld.datastucture</td>\n",
       "      <td>Education</td>\n",
       "      <td>0.0</td>\n",
       "      <td>0.0</td>\n",
       "      <td>100+</td>\n",
       "      <td>100.0</td>\n",
       "      <td>202</td>\n",
       "      <td>True</td>\n",
       "      <td>0.0</td>\n",
       "      <td>...</td>\n",
       "      <td>NaN</td>\n",
       "      <td>appoworld.official@gmail.com</td>\n",
       "      <td>Aug 19, 2018</td>\n",
       "      <td>Aug 19, 2018</td>\n",
       "      <td>Everyone</td>\n",
       "      <td>https://appoworld.000webhostapp.com/datastruct...</td>\n",
       "      <td>False</td>\n",
       "      <td>False</td>\n",
       "      <td>False</td>\n",
       "      <td>2021-06-16 12:59:19</td>\n",
       "    </tr>\n",
       "    <tr>\n",
       "      <th>2312942</th>\n",
       "      <td>Devi Suktam</td>\n",
       "      <td>ishan.devi.suktam</td>\n",
       "      <td>Music &amp; Audio</td>\n",
       "      <td>3.5</td>\n",
       "      <td>8.0</td>\n",
       "      <td>1,000+</td>\n",
       "      <td>1000.0</td>\n",
       "      <td>2635</td>\n",
       "      <td>True</td>\n",
       "      <td>0.0</td>\n",
       "      <td>...</td>\n",
       "      <td>https://a70f78905.app-ads-txt.com</td>\n",
       "      <td>ruchisono@gmail.com</td>\n",
       "      <td>Aug 1, 2016</td>\n",
       "      <td>May 05, 2021</td>\n",
       "      <td>Everyone</td>\n",
       "      <td>https://docs.google.com/document/d/1x-9reZuLRX...</td>\n",
       "      <td>True</td>\n",
       "      <td>False</td>\n",
       "      <td>False</td>\n",
       "      <td>2021-06-16 12:59:19</td>\n",
       "    </tr>\n",
       "    <tr>\n",
       "      <th>2312943</th>\n",
       "      <td>Biliyor Musun - Sonsuz Yarış</td>\n",
       "      <td>com.yyazilim.biliyormusun</td>\n",
       "      <td>Trivia</td>\n",
       "      <td>5.0</td>\n",
       "      <td>12.0</td>\n",
       "      <td>100+</td>\n",
       "      <td>100.0</td>\n",
       "      <td>354</td>\n",
       "      <td>True</td>\n",
       "      <td>0.0</td>\n",
       "      <td>...</td>\n",
       "      <td>NaN</td>\n",
       "      <td>yyazilimdevelop@gmail.com</td>\n",
       "      <td>Aug 9, 2019</td>\n",
       "      <td>Aug 19, 2019</td>\n",
       "      <td>Everyone</td>\n",
       "      <td>https://biliyor-musun-sons.flycricket.io/priva...</td>\n",
       "      <td>True</td>\n",
       "      <td>False</td>\n",
       "      <td>False</td>\n",
       "      <td>2021-06-16 12:59:19</td>\n",
       "    </tr>\n",
       "  </tbody>\n",
       "</table>\n",
       "<p>2312944 rows × 24 columns</p>\n",
       "</div>"
      ],
      "text/plain": [
       "                                                  App Name  \\\n",
       "0                                                  Gakondo   \n",
       "1                                      Ampere Battery Info   \n",
       "2                                                   Vibook   \n",
       "3        Smart City Trichy Public Service Vehicles 17UC...   \n",
       "4                                                  GROW.me   \n",
       "...                                                    ...   \n",
       "2312939                                           大俠客—熱血歸來   \n",
       "2312940                                         ORU Online   \n",
       "2312941                                     Data Structure   \n",
       "2312942                                        Devi Suktam   \n",
       "2312943                       Biliyor Musun - Sonsuz Yarış   \n",
       "\n",
       "                                       App Id       Category  Rating  \\\n",
       "0                         com.ishakwe.gakondo      Adventure     0.0   \n",
       "1                  com.webserveis.batteryinfo          Tools     4.4   \n",
       "2                        com.doantiepvien.crm   Productivity     0.0   \n",
       "3                     cst.stJoseph.ug17ucs548  Communication     5.0   \n",
       "4                        com.horodyski.grower          Tools     0.0   \n",
       "...                                       ...            ...     ...   \n",
       "2312939                         com.rxsj.ssjj   Role Playing     4.3   \n",
       "2312940              com.threedream.oruonline      Education     0.0   \n",
       "2312941  datastructure.appoworld.datastucture      Education     0.0   \n",
       "2312942                     ishan.devi.suktam  Music & Audio     3.5   \n",
       "2312943             com.yyazilim.biliyormusun         Trivia     5.0   \n",
       "\n",
       "         Rating Count  Installs  Minimum Installs  Maximum Installs  Free  \\\n",
       "0                 0.0       10+              10.0                15  True   \n",
       "1                64.0    5,000+            5000.0              7662  True   \n",
       "2                 0.0       50+              50.0                58  True   \n",
       "3                 5.0       10+              10.0                19  True   \n",
       "4                 0.0      100+             100.0               478  True   \n",
       "...               ...       ...               ...               ...   ...   \n",
       "2312939       16775.0  100,000+          100000.0            337109  True   \n",
       "2312940           0.0      100+             100.0               430  True   \n",
       "2312941           0.0      100+             100.0               202  True   \n",
       "2312942           8.0    1,000+            1000.0              2635  True   \n",
       "2312943          12.0      100+             100.0               354  True   \n",
       "\n",
       "         Price  ...                  Developer Website  \\\n",
       "0          0.0  ...        https://beniyizibyose.tk/#/   \n",
       "1          0.0  ...    https://webserveis.netlify.app/   \n",
       "2          0.0  ...                                NaN   \n",
       "3          0.0  ...   http://www.climatesmarttech.com/   \n",
       "4          0.0  ...        http://www.horodyski.com.pl   \n",
       "...        ...  ...                                ...   \n",
       "2312939    0.0  ...          http://www.4399sy.com.hk/   \n",
       "2312940    0.0  ...                http://www.oru.edu/   \n",
       "2312941    0.0  ...                                NaN   \n",
       "2312942    0.0  ...  https://a70f78905.app-ads-txt.com   \n",
       "2312943    0.0  ...                                NaN   \n",
       "\n",
       "                      Developer Email      Released  Last Updated  \\\n",
       "0              jean21101999@gmail.com  Feb 26, 2020  Feb 26, 2020   \n",
       "1                webserveis@gmail.com  May 21, 2020  May 06, 2021   \n",
       "2                 vnacrewit@gmail.com   Aug 9, 2019  Aug 19, 2019   \n",
       "3         climatesmarttech2@gmail.com  Sep 10, 2018  Oct 13, 2018   \n",
       "4           rmilekhorodyski@gmail.com  Feb 21, 2020  Nov 12, 2018   \n",
       "...                               ...           ...           ...   \n",
       "2312939           ssjjcomhk@gmail.com           NaN  Jun 01, 2021   \n",
       "2312940     3DreamDeveloper@gmail.com  Jan 17, 2018  Feb 02, 2018   \n",
       "2312941  appoworld.official@gmail.com  Aug 19, 2018  Aug 19, 2018   \n",
       "2312942           ruchisono@gmail.com   Aug 1, 2016  May 05, 2021   \n",
       "2312943     yyazilimdevelop@gmail.com   Aug 9, 2019  Aug 19, 2019   \n",
       "\n",
       "        Content Rating                                     Privacy Policy  \\\n",
       "0             Everyone                 https://beniyizibyose.tk/projects/   \n",
       "1             Everyone  https://dev4phones.wordpress.com/licencia-de-uso/   \n",
       "2             Everyone  https://www.vietnamairlines.com/vn/en/terms-an...   \n",
       "3             Everyone                                                NaN   \n",
       "4             Everyone                        http://www.horodyski.com.pl   \n",
       "...                ...                                                ...   \n",
       "2312939           Teen             http://a.4399sy.com.hk/user/aggreement   \n",
       "2312940       Everyone    http://www.oru.edu/about-oru/privacy-policy.php   \n",
       "2312941       Everyone  https://appoworld.000webhostapp.com/datastruct...   \n",
       "2312942       Everyone  https://docs.google.com/document/d/1x-9reZuLRX...   \n",
       "2312943       Everyone  https://biliyor-musun-sons.flycricket.io/priva...   \n",
       "\n",
       "        Ad Supported In App Purchases Editors Choice         Scraped Time  \n",
       "0              False            False          False  2021-06-15 20:19:35  \n",
       "1               True            False          False  2021-06-15 20:19:35  \n",
       "2              False            False          False  2021-06-15 20:19:35  \n",
       "3               True            False          False  2021-06-15 20:19:35  \n",
       "4              False            False          False  2021-06-15 20:19:35  \n",
       "...              ...              ...            ...                  ...  \n",
       "2312939        False            False          False  2021-06-16 12:59:18  \n",
       "2312940        False            False          False  2021-06-16 12:59:19  \n",
       "2312941        False            False          False  2021-06-16 12:59:19  \n",
       "2312942         True            False          False  2021-06-16 12:59:19  \n",
       "2312943         True            False          False  2021-06-16 12:59:19  \n",
       "\n",
       "[2312944 rows x 24 columns]"
      ]
     },
     "execution_count": 8,
     "metadata": {},
     "output_type": "execute_result"
    }
   ],
   "source": [
    "df"
   ]
  },
  {
   "cell_type": "code",
   "execution_count": 9,
   "id": "d7b6bf4e",
   "metadata": {},
   "outputs": [
    {
     "data": {
      "text/html": [
       "<div>\n",
       "<style scoped>\n",
       "    .dataframe tbody tr th:only-of-type {\n",
       "        vertical-align: middle;\n",
       "    }\n",
       "\n",
       "    .dataframe tbody tr th {\n",
       "        vertical-align: top;\n",
       "    }\n",
       "\n",
       "    .dataframe thead th {\n",
       "        text-align: right;\n",
       "    }\n",
       "</style>\n",
       "<table border=\"1\" class=\"dataframe\">\n",
       "  <thead>\n",
       "    <tr style=\"text-align: right;\">\n",
       "      <th></th>\n",
       "      <th>App Name</th>\n",
       "      <th>App Id</th>\n",
       "      <th>Category</th>\n",
       "      <th>Rating</th>\n",
       "      <th>Rating Count</th>\n",
       "      <th>Installs</th>\n",
       "      <th>Minimum Installs</th>\n",
       "      <th>Maximum Installs</th>\n",
       "      <th>Free</th>\n",
       "      <th>Price</th>\n",
       "      <th>...</th>\n",
       "      <th>Developer Website</th>\n",
       "      <th>Developer Email</th>\n",
       "      <th>Released</th>\n",
       "      <th>Last Updated</th>\n",
       "      <th>Content Rating</th>\n",
       "      <th>Privacy Policy</th>\n",
       "      <th>Ad Supported</th>\n",
       "      <th>In App Purchases</th>\n",
       "      <th>Editors Choice</th>\n",
       "      <th>Scraped Time</th>\n",
       "    </tr>\n",
       "  </thead>\n",
       "  <tbody>\n",
       "    <tr>\n",
       "      <th>0</th>\n",
       "      <td>Gakondo</td>\n",
       "      <td>com.ishakwe.gakondo</td>\n",
       "      <td>Adventure</td>\n",
       "      <td>0.0</td>\n",
       "      <td>0.0</td>\n",
       "      <td>10+</td>\n",
       "      <td>10.0</td>\n",
       "      <td>15</td>\n",
       "      <td>True</td>\n",
       "      <td>0.0</td>\n",
       "      <td>...</td>\n",
       "      <td>https://beniyizibyose.tk/#/</td>\n",
       "      <td>jean21101999@gmail.com</td>\n",
       "      <td>Feb 26, 2020</td>\n",
       "      <td>Feb 26, 2020</td>\n",
       "      <td>Everyone</td>\n",
       "      <td>https://beniyizibyose.tk/projects/</td>\n",
       "      <td>False</td>\n",
       "      <td>False</td>\n",
       "      <td>False</td>\n",
       "      <td>2021-06-15 20:19:35</td>\n",
       "    </tr>\n",
       "    <tr>\n",
       "      <th>1</th>\n",
       "      <td>Ampere Battery Info</td>\n",
       "      <td>com.webserveis.batteryinfo</td>\n",
       "      <td>Tools</td>\n",
       "      <td>4.4</td>\n",
       "      <td>64.0</td>\n",
       "      <td>5,000+</td>\n",
       "      <td>5000.0</td>\n",
       "      <td>7662</td>\n",
       "      <td>True</td>\n",
       "      <td>0.0</td>\n",
       "      <td>...</td>\n",
       "      <td>https://webserveis.netlify.app/</td>\n",
       "      <td>webserveis@gmail.com</td>\n",
       "      <td>May 21, 2020</td>\n",
       "      <td>May 06, 2021</td>\n",
       "      <td>Everyone</td>\n",
       "      <td>https://dev4phones.wordpress.com/licencia-de-uso/</td>\n",
       "      <td>True</td>\n",
       "      <td>False</td>\n",
       "      <td>False</td>\n",
       "      <td>2021-06-15 20:19:35</td>\n",
       "    </tr>\n",
       "    <tr>\n",
       "      <th>2</th>\n",
       "      <td>Vibook</td>\n",
       "      <td>com.doantiepvien.crm</td>\n",
       "      <td>Productivity</td>\n",
       "      <td>0.0</td>\n",
       "      <td>0.0</td>\n",
       "      <td>50+</td>\n",
       "      <td>50.0</td>\n",
       "      <td>58</td>\n",
       "      <td>True</td>\n",
       "      <td>0.0</td>\n",
       "      <td>...</td>\n",
       "      <td>NaN</td>\n",
       "      <td>vnacrewit@gmail.com</td>\n",
       "      <td>Aug 9, 2019</td>\n",
       "      <td>Aug 19, 2019</td>\n",
       "      <td>Everyone</td>\n",
       "      <td>https://www.vietnamairlines.com/vn/en/terms-an...</td>\n",
       "      <td>False</td>\n",
       "      <td>False</td>\n",
       "      <td>False</td>\n",
       "      <td>2021-06-15 20:19:35</td>\n",
       "    </tr>\n",
       "    <tr>\n",
       "      <th>3</th>\n",
       "      <td>Smart City Trichy Public Service Vehicles 17UC...</td>\n",
       "      <td>cst.stJoseph.ug17ucs548</td>\n",
       "      <td>Communication</td>\n",
       "      <td>5.0</td>\n",
       "      <td>5.0</td>\n",
       "      <td>10+</td>\n",
       "      <td>10.0</td>\n",
       "      <td>19</td>\n",
       "      <td>True</td>\n",
       "      <td>0.0</td>\n",
       "      <td>...</td>\n",
       "      <td>http://www.climatesmarttech.com/</td>\n",
       "      <td>climatesmarttech2@gmail.com</td>\n",
       "      <td>Sep 10, 2018</td>\n",
       "      <td>Oct 13, 2018</td>\n",
       "      <td>Everyone</td>\n",
       "      <td>NaN</td>\n",
       "      <td>True</td>\n",
       "      <td>False</td>\n",
       "      <td>False</td>\n",
       "      <td>2021-06-15 20:19:35</td>\n",
       "    </tr>\n",
       "    <tr>\n",
       "      <th>4</th>\n",
       "      <td>GROW.me</td>\n",
       "      <td>com.horodyski.grower</td>\n",
       "      <td>Tools</td>\n",
       "      <td>0.0</td>\n",
       "      <td>0.0</td>\n",
       "      <td>100+</td>\n",
       "      <td>100.0</td>\n",
       "      <td>478</td>\n",
       "      <td>True</td>\n",
       "      <td>0.0</td>\n",
       "      <td>...</td>\n",
       "      <td>http://www.horodyski.com.pl</td>\n",
       "      <td>rmilekhorodyski@gmail.com</td>\n",
       "      <td>Feb 21, 2020</td>\n",
       "      <td>Nov 12, 2018</td>\n",
       "      <td>Everyone</td>\n",
       "      <td>http://www.horodyski.com.pl</td>\n",
       "      <td>False</td>\n",
       "      <td>False</td>\n",
       "      <td>False</td>\n",
       "      <td>2021-06-15 20:19:35</td>\n",
       "    </tr>\n",
       "  </tbody>\n",
       "</table>\n",
       "<p>5 rows × 24 columns</p>\n",
       "</div>"
      ],
      "text/plain": [
       "                                            App Name  \\\n",
       "0                                            Gakondo   \n",
       "1                                Ampere Battery Info   \n",
       "2                                             Vibook   \n",
       "3  Smart City Trichy Public Service Vehicles 17UC...   \n",
       "4                                            GROW.me   \n",
       "\n",
       "                       App Id       Category  Rating  Rating Count Installs  \\\n",
       "0         com.ishakwe.gakondo      Adventure     0.0           0.0      10+   \n",
       "1  com.webserveis.batteryinfo          Tools     4.4          64.0   5,000+   \n",
       "2        com.doantiepvien.crm   Productivity     0.0           0.0      50+   \n",
       "3     cst.stJoseph.ug17ucs548  Communication     5.0           5.0      10+   \n",
       "4        com.horodyski.grower          Tools     0.0           0.0     100+   \n",
       "\n",
       "   Minimum Installs  Maximum Installs  Free  Price  ...  \\\n",
       "0              10.0                15  True    0.0  ...   \n",
       "1            5000.0              7662  True    0.0  ...   \n",
       "2              50.0                58  True    0.0  ...   \n",
       "3              10.0                19  True    0.0  ...   \n",
       "4             100.0               478  True    0.0  ...   \n",
       "\n",
       "                  Developer Website              Developer Email  \\\n",
       "0       https://beniyizibyose.tk/#/       jean21101999@gmail.com   \n",
       "1   https://webserveis.netlify.app/         webserveis@gmail.com   \n",
       "2                               NaN          vnacrewit@gmail.com   \n",
       "3  http://www.climatesmarttech.com/  climatesmarttech2@gmail.com   \n",
       "4       http://www.horodyski.com.pl    rmilekhorodyski@gmail.com   \n",
       "\n",
       "       Released  Last Updated Content Rating  \\\n",
       "0  Feb 26, 2020  Feb 26, 2020       Everyone   \n",
       "1  May 21, 2020  May 06, 2021       Everyone   \n",
       "2   Aug 9, 2019  Aug 19, 2019       Everyone   \n",
       "3  Sep 10, 2018  Oct 13, 2018       Everyone   \n",
       "4  Feb 21, 2020  Nov 12, 2018       Everyone   \n",
       "\n",
       "                                      Privacy Policy Ad Supported  \\\n",
       "0                 https://beniyizibyose.tk/projects/        False   \n",
       "1  https://dev4phones.wordpress.com/licencia-de-uso/         True   \n",
       "2  https://www.vietnamairlines.com/vn/en/terms-an...        False   \n",
       "3                                                NaN         True   \n",
       "4                        http://www.horodyski.com.pl        False   \n",
       "\n",
       "  In App Purchases Editors Choice         Scraped Time  \n",
       "0            False          False  2021-06-15 20:19:35  \n",
       "1            False          False  2021-06-15 20:19:35  \n",
       "2            False          False  2021-06-15 20:19:35  \n",
       "3            False          False  2021-06-15 20:19:35  \n",
       "4            False          False  2021-06-15 20:19:35  \n",
       "\n",
       "[5 rows x 24 columns]"
      ]
     },
     "execution_count": 9,
     "metadata": {},
     "output_type": "execute_result"
    }
   ],
   "source": [
    "df.head(5)"
   ]
  },
  {
   "cell_type": "markdown",
   "id": "3d70488f",
   "metadata": {},
   "source": [
    "Let's see what are the columns were given in the Google-Playstore dataset"
   ]
  },
  {
   "cell_type": "code",
   "execution_count": 10,
   "id": "c6f514e8",
   "metadata": {},
   "outputs": [
    {
     "data": {
      "text/plain": [
       "(2312944, 24)"
      ]
     },
     "execution_count": 10,
     "metadata": {},
     "output_type": "execute_result"
    }
   ],
   "source": [
    "df.shape"
   ]
  },
  {
   "cell_type": "code",
   "execution_count": 11,
   "id": "c10cb776",
   "metadata": {},
   "outputs": [
    {
     "name": "stdout",
     "output_type": "stream",
     "text": [
      "<class 'pandas.core.frame.DataFrame'>\n",
      "RangeIndex: 2312944 entries, 0 to 2312943\n",
      "Data columns (total 24 columns):\n",
      " #   Column             Dtype  \n",
      "---  ------             -----  \n",
      " 0   App Name           object \n",
      " 1   App Id             object \n",
      " 2   Category           object \n",
      " 3   Rating             float64\n",
      " 4   Rating Count       float64\n",
      " 5   Installs           object \n",
      " 6   Minimum Installs   float64\n",
      " 7   Maximum Installs   int64  \n",
      " 8   Free               bool   \n",
      " 9   Price              float64\n",
      " 10  Currency           object \n",
      " 11  Size               object \n",
      " 12  Minimum Android    object \n",
      " 13  Developer Id       object \n",
      " 14  Developer Website  object \n",
      " 15  Developer Email    object \n",
      " 16  Released           object \n",
      " 17  Last Updated       object \n",
      " 18  Content Rating     object \n",
      " 19  Privacy Policy     object \n",
      " 20  Ad Supported       bool   \n",
      " 21  In App Purchases   bool   \n",
      " 22  Editors Choice     bool   \n",
      " 23  Scraped Time       object \n",
      "dtypes: bool(4), float64(4), int64(1), object(15)\n",
      "memory usage: 361.8+ MB\n"
     ]
    }
   ],
   "source": [
    "df.info()"
   ]
  },
  {
   "cell_type": "markdown",
   "id": "019d2b03",
   "metadata": {},
   "source": [
    "## Observation:\n",
    "\n",
    "---\n",
    "1. The dataset having   2312944 rows and 24 columns \n",
    "2. The columns in the dataset are:\n",
    " \n",
    "        'App Name', 'App Id', 'Category', 'Rating', 'Rating Count, Installs','Minimum Installs', 'Maximum Installs', 'Free', 'Price', \n",
    "        'Currency','Size', 'Minimum Android', 'Developer Id', 'Developer Website','Developer Email', 'Released', 'Last Updated', \n",
    "        'Content Rating','Privacy Policy', 'Ad Supported', 'In App Purchases', 'Editors Choice','Scraped Time'"
   ]
  },
  {
   "cell_type": "markdown",
   "id": "729dcca6",
   "metadata": {},
   "source": [
    "## Descriptive statistics"
   ]
  },
  {
   "cell_type": "code",
   "execution_count": 12,
   "id": "d90ff118",
   "metadata": {},
   "outputs": [
    {
     "data": {
      "text/html": [
       "<div>\n",
       "<style scoped>\n",
       "    .dataframe tbody tr th:only-of-type {\n",
       "        vertical-align: middle;\n",
       "    }\n",
       "\n",
       "    .dataframe tbody tr th {\n",
       "        vertical-align: top;\n",
       "    }\n",
       "\n",
       "    .dataframe thead th {\n",
       "        text-align: right;\n",
       "    }\n",
       "</style>\n",
       "<table border=\"1\" class=\"dataframe\">\n",
       "  <thead>\n",
       "    <tr style=\"text-align: right;\">\n",
       "      <th></th>\n",
       "      <th>Rating</th>\n",
       "      <th>Rating Count</th>\n",
       "      <th>Minimum Installs</th>\n",
       "      <th>Maximum Installs</th>\n",
       "      <th>Price</th>\n",
       "    </tr>\n",
       "  </thead>\n",
       "  <tbody>\n",
       "    <tr>\n",
       "      <th>count</th>\n",
       "      <td>2.290061e+06</td>\n",
       "      <td>2.290061e+06</td>\n",
       "      <td>2.312837e+06</td>\n",
       "      <td>2.312944e+06</td>\n",
       "      <td>2.312944e+06</td>\n",
       "    </tr>\n",
       "    <tr>\n",
       "      <th>mean</th>\n",
       "      <td>2.203152e+00</td>\n",
       "      <td>2.864839e+03</td>\n",
       "      <td>1.834452e+05</td>\n",
       "      <td>3.202017e+05</td>\n",
       "      <td>1.034992e-01</td>\n",
       "    </tr>\n",
       "    <tr>\n",
       "      <th>std</th>\n",
       "      <td>2.106223e+00</td>\n",
       "      <td>2.121626e+05</td>\n",
       "      <td>1.513144e+07</td>\n",
       "      <td>2.355495e+07</td>\n",
       "      <td>2.633127e+00</td>\n",
       "    </tr>\n",
       "    <tr>\n",
       "      <th>min</th>\n",
       "      <td>0.000000e+00</td>\n",
       "      <td>0.000000e+00</td>\n",
       "      <td>0.000000e+00</td>\n",
       "      <td>0.000000e+00</td>\n",
       "      <td>0.000000e+00</td>\n",
       "    </tr>\n",
       "    <tr>\n",
       "      <th>25%</th>\n",
       "      <td>0.000000e+00</td>\n",
       "      <td>0.000000e+00</td>\n",
       "      <td>5.000000e+01</td>\n",
       "      <td>8.400000e+01</td>\n",
       "      <td>0.000000e+00</td>\n",
       "    </tr>\n",
       "    <tr>\n",
       "      <th>50%</th>\n",
       "      <td>2.900000e+00</td>\n",
       "      <td>6.000000e+00</td>\n",
       "      <td>5.000000e+02</td>\n",
       "      <td>6.950000e+02</td>\n",
       "      <td>0.000000e+00</td>\n",
       "    </tr>\n",
       "    <tr>\n",
       "      <th>75%</th>\n",
       "      <td>4.300000e+00</td>\n",
       "      <td>4.200000e+01</td>\n",
       "      <td>5.000000e+03</td>\n",
       "      <td>7.354000e+03</td>\n",
       "      <td>0.000000e+00</td>\n",
       "    </tr>\n",
       "    <tr>\n",
       "      <th>max</th>\n",
       "      <td>5.000000e+00</td>\n",
       "      <td>1.385576e+08</td>\n",
       "      <td>1.000000e+10</td>\n",
       "      <td>1.205763e+10</td>\n",
       "      <td>4.000000e+02</td>\n",
       "    </tr>\n",
       "  </tbody>\n",
       "</table>\n",
       "</div>"
      ],
      "text/plain": [
       "             Rating  Rating Count  Minimum Installs  Maximum Installs  \\\n",
       "count  2.290061e+06  2.290061e+06      2.312837e+06      2.312944e+06   \n",
       "mean   2.203152e+00  2.864839e+03      1.834452e+05      3.202017e+05   \n",
       "std    2.106223e+00  2.121626e+05      1.513144e+07      2.355495e+07   \n",
       "min    0.000000e+00  0.000000e+00      0.000000e+00      0.000000e+00   \n",
       "25%    0.000000e+00  0.000000e+00      5.000000e+01      8.400000e+01   \n",
       "50%    2.900000e+00  6.000000e+00      5.000000e+02      6.950000e+02   \n",
       "75%    4.300000e+00  4.200000e+01      5.000000e+03      7.354000e+03   \n",
       "max    5.000000e+00  1.385576e+08      1.000000e+10      1.205763e+10   \n",
       "\n",
       "              Price  \n",
       "count  2.312944e+06  \n",
       "mean   1.034992e-01  \n",
       "std    2.633127e+00  \n",
       "min    0.000000e+00  \n",
       "25%    0.000000e+00  \n",
       "50%    0.000000e+00  \n",
       "75%    0.000000e+00  \n",
       "max    4.000000e+02  "
      ]
     },
     "execution_count": 12,
     "metadata": {},
     "output_type": "execute_result"
    }
   ],
   "source": [
    "df.describe()"
   ]
  },
  {
   "cell_type": "markdown",
   "id": "2fd5bc38",
   "metadata": {},
   "source": [
    "## Observation :    \n",
    "\n",
    "---\n",
    "1. we have 5 numerical columns in our dataset"
   ]
  },
  {
   "cell_type": "markdown",
   "id": "48f4547d",
   "metadata": {},
   "source": [
    "To look the entire columns we can use pandas functon pd.set_option()"
   ]
  },
  {
   "cell_type": "code",
   "execution_count": 13,
   "id": "e234af05",
   "metadata": {},
   "outputs": [],
   "source": [
    " pd.set_option('display.max_columns', None)"
   ]
  },
  {
   "cell_type": "code",
   "execution_count": 14,
   "id": "db92399c",
   "metadata": {},
   "outputs": [
    {
     "data": {
      "text/html": [
       "<div>\n",
       "<style scoped>\n",
       "    .dataframe tbody tr th:only-of-type {\n",
       "        vertical-align: middle;\n",
       "    }\n",
       "\n",
       "    .dataframe tbody tr th {\n",
       "        vertical-align: top;\n",
       "    }\n",
       "\n",
       "    .dataframe thead th {\n",
       "        text-align: right;\n",
       "    }\n",
       "</style>\n",
       "<table border=\"1\" class=\"dataframe\">\n",
       "  <thead>\n",
       "    <tr style=\"text-align: right;\">\n",
       "      <th></th>\n",
       "      <th>App Name</th>\n",
       "      <th>App Id</th>\n",
       "      <th>Category</th>\n",
       "      <th>Rating</th>\n",
       "      <th>Rating Count</th>\n",
       "      <th>Installs</th>\n",
       "      <th>Minimum Installs</th>\n",
       "      <th>Maximum Installs</th>\n",
       "      <th>Free</th>\n",
       "      <th>Price</th>\n",
       "      <th>Currency</th>\n",
       "      <th>Size</th>\n",
       "      <th>Minimum Android</th>\n",
       "      <th>Developer Id</th>\n",
       "      <th>Developer Website</th>\n",
       "      <th>Developer Email</th>\n",
       "      <th>Released</th>\n",
       "      <th>Last Updated</th>\n",
       "      <th>Content Rating</th>\n",
       "      <th>Privacy Policy</th>\n",
       "      <th>Ad Supported</th>\n",
       "      <th>In App Purchases</th>\n",
       "      <th>Editors Choice</th>\n",
       "      <th>Scraped Time</th>\n",
       "    </tr>\n",
       "  </thead>\n",
       "  <tbody>\n",
       "    <tr>\n",
       "      <th>0</th>\n",
       "      <td>Gakondo</td>\n",
       "      <td>com.ishakwe.gakondo</td>\n",
       "      <td>Adventure</td>\n",
       "      <td>0.0</td>\n",
       "      <td>0.0</td>\n",
       "      <td>10+</td>\n",
       "      <td>10.0</td>\n",
       "      <td>15</td>\n",
       "      <td>True</td>\n",
       "      <td>0.0</td>\n",
       "      <td>USD</td>\n",
       "      <td>10M</td>\n",
       "      <td>7.1 and up</td>\n",
       "      <td>Jean Confident Irénée NIYIZIBYOSE</td>\n",
       "      <td>https://beniyizibyose.tk/#/</td>\n",
       "      <td>jean21101999@gmail.com</td>\n",
       "      <td>Feb 26, 2020</td>\n",
       "      <td>Feb 26, 2020</td>\n",
       "      <td>Everyone</td>\n",
       "      <td>https://beniyizibyose.tk/projects/</td>\n",
       "      <td>False</td>\n",
       "      <td>False</td>\n",
       "      <td>False</td>\n",
       "      <td>2021-06-15 20:19:35</td>\n",
       "    </tr>\n",
       "    <tr>\n",
       "      <th>1</th>\n",
       "      <td>Ampere Battery Info</td>\n",
       "      <td>com.webserveis.batteryinfo</td>\n",
       "      <td>Tools</td>\n",
       "      <td>4.4</td>\n",
       "      <td>64.0</td>\n",
       "      <td>5,000+</td>\n",
       "      <td>5000.0</td>\n",
       "      <td>7662</td>\n",
       "      <td>True</td>\n",
       "      <td>0.0</td>\n",
       "      <td>USD</td>\n",
       "      <td>2.9M</td>\n",
       "      <td>5.0 and up</td>\n",
       "      <td>Webserveis</td>\n",
       "      <td>https://webserveis.netlify.app/</td>\n",
       "      <td>webserveis@gmail.com</td>\n",
       "      <td>May 21, 2020</td>\n",
       "      <td>May 06, 2021</td>\n",
       "      <td>Everyone</td>\n",
       "      <td>https://dev4phones.wordpress.com/licencia-de-uso/</td>\n",
       "      <td>True</td>\n",
       "      <td>False</td>\n",
       "      <td>False</td>\n",
       "      <td>2021-06-15 20:19:35</td>\n",
       "    </tr>\n",
       "    <tr>\n",
       "      <th>2</th>\n",
       "      <td>Vibook</td>\n",
       "      <td>com.doantiepvien.crm</td>\n",
       "      <td>Productivity</td>\n",
       "      <td>0.0</td>\n",
       "      <td>0.0</td>\n",
       "      <td>50+</td>\n",
       "      <td>50.0</td>\n",
       "      <td>58</td>\n",
       "      <td>True</td>\n",
       "      <td>0.0</td>\n",
       "      <td>USD</td>\n",
       "      <td>3.7M</td>\n",
       "      <td>4.0.3 and up</td>\n",
       "      <td>Cabin Crew</td>\n",
       "      <td>NaN</td>\n",
       "      <td>vnacrewit@gmail.com</td>\n",
       "      <td>Aug 9, 2019</td>\n",
       "      <td>Aug 19, 2019</td>\n",
       "      <td>Everyone</td>\n",
       "      <td>https://www.vietnamairlines.com/vn/en/terms-an...</td>\n",
       "      <td>False</td>\n",
       "      <td>False</td>\n",
       "      <td>False</td>\n",
       "      <td>2021-06-15 20:19:35</td>\n",
       "    </tr>\n",
       "    <tr>\n",
       "      <th>3</th>\n",
       "      <td>Smart City Trichy Public Service Vehicles 17UC...</td>\n",
       "      <td>cst.stJoseph.ug17ucs548</td>\n",
       "      <td>Communication</td>\n",
       "      <td>5.0</td>\n",
       "      <td>5.0</td>\n",
       "      <td>10+</td>\n",
       "      <td>10.0</td>\n",
       "      <td>19</td>\n",
       "      <td>True</td>\n",
       "      <td>0.0</td>\n",
       "      <td>USD</td>\n",
       "      <td>1.8M</td>\n",
       "      <td>4.0.3 and up</td>\n",
       "      <td>Climate Smart Tech2</td>\n",
       "      <td>http://www.climatesmarttech.com/</td>\n",
       "      <td>climatesmarttech2@gmail.com</td>\n",
       "      <td>Sep 10, 2018</td>\n",
       "      <td>Oct 13, 2018</td>\n",
       "      <td>Everyone</td>\n",
       "      <td>NaN</td>\n",
       "      <td>True</td>\n",
       "      <td>False</td>\n",
       "      <td>False</td>\n",
       "      <td>2021-06-15 20:19:35</td>\n",
       "    </tr>\n",
       "    <tr>\n",
       "      <th>4</th>\n",
       "      <td>GROW.me</td>\n",
       "      <td>com.horodyski.grower</td>\n",
       "      <td>Tools</td>\n",
       "      <td>0.0</td>\n",
       "      <td>0.0</td>\n",
       "      <td>100+</td>\n",
       "      <td>100.0</td>\n",
       "      <td>478</td>\n",
       "      <td>True</td>\n",
       "      <td>0.0</td>\n",
       "      <td>USD</td>\n",
       "      <td>6.2M</td>\n",
       "      <td>4.1 and up</td>\n",
       "      <td>Rafal Milek-Horodyski</td>\n",
       "      <td>http://www.horodyski.com.pl</td>\n",
       "      <td>rmilekhorodyski@gmail.com</td>\n",
       "      <td>Feb 21, 2020</td>\n",
       "      <td>Nov 12, 2018</td>\n",
       "      <td>Everyone</td>\n",
       "      <td>http://www.horodyski.com.pl</td>\n",
       "      <td>False</td>\n",
       "      <td>False</td>\n",
       "      <td>False</td>\n",
       "      <td>2021-06-15 20:19:35</td>\n",
       "    </tr>\n",
       "  </tbody>\n",
       "</table>\n",
       "</div>"
      ],
      "text/plain": [
       "                                            App Name  \\\n",
       "0                                            Gakondo   \n",
       "1                                Ampere Battery Info   \n",
       "2                                             Vibook   \n",
       "3  Smart City Trichy Public Service Vehicles 17UC...   \n",
       "4                                            GROW.me   \n",
       "\n",
       "                       App Id       Category  Rating  Rating Count Installs  \\\n",
       "0         com.ishakwe.gakondo      Adventure     0.0           0.0      10+   \n",
       "1  com.webserveis.batteryinfo          Tools     4.4          64.0   5,000+   \n",
       "2        com.doantiepvien.crm   Productivity     0.0           0.0      50+   \n",
       "3     cst.stJoseph.ug17ucs548  Communication     5.0           5.0      10+   \n",
       "4        com.horodyski.grower          Tools     0.0           0.0     100+   \n",
       "\n",
       "   Minimum Installs  Maximum Installs  Free  Price Currency  Size  \\\n",
       "0              10.0                15  True    0.0      USD   10M   \n",
       "1            5000.0              7662  True    0.0      USD  2.9M   \n",
       "2              50.0                58  True    0.0      USD  3.7M   \n",
       "3              10.0                19  True    0.0      USD  1.8M   \n",
       "4             100.0               478  True    0.0      USD  6.2M   \n",
       "\n",
       "  Minimum Android                       Developer Id  \\\n",
       "0      7.1 and up  Jean Confident Irénée NIYIZIBYOSE   \n",
       "1      5.0 and up                         Webserveis   \n",
       "2    4.0.3 and up                         Cabin Crew   \n",
       "3    4.0.3 and up                Climate Smart Tech2   \n",
       "4      4.1 and up              Rafal Milek-Horodyski   \n",
       "\n",
       "                  Developer Website              Developer Email  \\\n",
       "0       https://beniyizibyose.tk/#/       jean21101999@gmail.com   \n",
       "1   https://webserveis.netlify.app/         webserveis@gmail.com   \n",
       "2                               NaN          vnacrewit@gmail.com   \n",
       "3  http://www.climatesmarttech.com/  climatesmarttech2@gmail.com   \n",
       "4       http://www.horodyski.com.pl    rmilekhorodyski@gmail.com   \n",
       "\n",
       "       Released  Last Updated Content Rating  \\\n",
       "0  Feb 26, 2020  Feb 26, 2020       Everyone   \n",
       "1  May 21, 2020  May 06, 2021       Everyone   \n",
       "2   Aug 9, 2019  Aug 19, 2019       Everyone   \n",
       "3  Sep 10, 2018  Oct 13, 2018       Everyone   \n",
       "4  Feb 21, 2020  Nov 12, 2018       Everyone   \n",
       "\n",
       "                                      Privacy Policy  Ad Supported  \\\n",
       "0                 https://beniyizibyose.tk/projects/         False   \n",
       "1  https://dev4phones.wordpress.com/licencia-de-uso/          True   \n",
       "2  https://www.vietnamairlines.com/vn/en/terms-an...         False   \n",
       "3                                                NaN          True   \n",
       "4                        http://www.horodyski.com.pl         False   \n",
       "\n",
       "   In App Purchases  Editors Choice         Scraped Time  \n",
       "0             False           False  2021-06-15 20:19:35  \n",
       "1             False           False  2021-06-15 20:19:35  \n",
       "2             False           False  2021-06-15 20:19:35  \n",
       "3             False           False  2021-06-15 20:19:35  \n",
       "4             False           False  2021-06-15 20:19:35  "
      ]
     },
     "execution_count": 14,
     "metadata": {},
     "output_type": "execute_result"
    }
   ],
   "source": [
    "df.head()"
   ]
  },
  {
   "cell_type": "markdown",
   "id": "595ba25d",
   "metadata": {},
   "source": [
    "## Missing values in the data"
   ]
  },
  {
   "cell_type": "code",
   "execution_count": 15,
   "id": "41d24b42",
   "metadata": {},
   "outputs": [
    {
     "data": {
      "text/plain": [
       "Developer Website    760835\n",
       "Privacy Policy       420953\n",
       "Released              71053\n",
       "Rating                22883\n",
       "Rating Count          22883\n",
       "Minimum Android        6530\n",
       "Size                    196\n",
       "Currency                135\n",
       "Installs                107\n",
       "Minimum Installs        107\n",
       "Developer Id             33\n",
       "Developer Email          31\n",
       "App Name                  2\n",
       "App Id                    0\n",
       "Price                     0\n",
       "Free                      0\n",
       "Maximum Installs          0\n",
       "Last Updated              0\n",
       "Content Rating            0\n",
       "Category                  0\n",
       "Ad Supported              0\n",
       "In App Purchases          0\n",
       "Editors Choice            0\n",
       "Scraped Time              0\n",
       "dtype: int64"
      ]
     },
     "execution_count": 15,
     "metadata": {},
     "output_type": "execute_result"
    }
   ],
   "source": [
    "df.isnull().sum().sort_values(ascending = False)"
   ]
  },
  {
   "cell_type": "markdown",
   "id": "26c2d0c7",
   "metadata": {},
   "source": [
    "# **Exploratory Analysis and Visualization**"
   ]
  },
  {
   "cell_type": "markdown",
   "id": "ac8e4ba5",
   "metadata": {},
   "source": [
    "## Let's plot the missing null values"
   ]
  },
  {
   "cell_type": "code",
   "execution_count": 17,
   "id": "b07fcb30",
   "metadata": {},
   "outputs": [
    {
     "data": {
      "text/plain": [
       "Text(0.5, 1.0, 'Missing null values')"
      ]
     },
     "execution_count": 17,
     "metadata": {},
     "output_type": "execute_result"
    },
    {
     "data": {
      "image/png": "[encoded data removed]",
      "text/plain": [
       "<Figure size 2000x600 with 1 Axes>"
      ]
     },
     "metadata": {},
     "output_type": "display_data"
    }
   ],
   "source": [
    "import matplotlib\n",
    "matplotlib.rcParams['figure.figsize'] = (20,6)\n",
    "sns.heatmap(df.isnull(),yticklabels = False, cbar = False , cmap = 'viridis')\n",
    "plt.title(\"Missing null values\")"
   ]
  },
  {
   "cell_type": "markdown",
   "id": "ec68334c",
   "metadata": {},
   "source": [
    "Let's see the missing percentage in data"
   ]
  },
  {
   "cell_type": "code",
   "execution_count": 18,
   "id": "117af36f",
   "metadata": {},
   "outputs": [
    {
     "data": {
      "text/plain": [
       "Developer Website    3.289466e-01\n",
       "Privacy Policy       1.819988e-01\n",
       "Released             3.071972e-02\n",
       "Rating               9.893452e-03\n",
       "Rating Count         9.893452e-03\n",
       "Minimum Android      2.823242e-03\n",
       "Size                 8.474049e-05\n",
       "Currency             5.836717e-05\n",
       "Installs             4.626139e-05\n",
       "Minimum Installs     4.626139e-05\n",
       "Developer Id         1.426753e-05\n",
       "Developer Email      1.340283e-05\n",
       "App Name             8.646988e-07\n",
       "App Id               0.000000e+00\n",
       "Price                0.000000e+00\n",
       "Free                 0.000000e+00\n",
       "Maximum Installs     0.000000e+00\n",
       "Last Updated         0.000000e+00\n",
       "Content Rating       0.000000e+00\n",
       "Category             0.000000e+00\n",
       "Ad Supported         0.000000e+00\n",
       "In App Purchases     0.000000e+00\n",
       "Editors Choice       0.000000e+00\n",
       "Scraped Time         0.000000e+00\n",
       "dtype: float64"
      ]
     },
     "execution_count": 18,
     "metadata": {},
     "output_type": "execute_result"
    }
   ],
   "source": [
    "missing_percentage = df.isnull().sum().sort_values(ascending = False)/len(df)\n",
    "missing_percentage"
   ]
  },
  {
   "cell_type": "markdown",
   "id": "2fbcff1b",
   "metadata": {},
   "source": [
    "## Let's plot the missing percentage of null values"
   ]
  },
  {
   "cell_type": "code",
   "execution_count": 19,
   "id": "897e0f7d",
   "metadata": {},
   "outputs": [
    {
     "data": {
      "text/plain": [
       "Text(0.5, 1.0, 'Missig percentage of null values')"
      ]
     },
     "execution_count": 19,
     "metadata": {},
     "output_type": "execute_result"
    },
    {
     "data": {
      "image/png": "[encoded data removed]",
      "text/plain": [
       "<Figure size 2000x600 with 1 Axes>"
      ]
     },
     "metadata": {},
     "output_type": "display_data"
    }
   ],
   "source": [
    "missing_percentage = missing_percentage[missing_percentage != 0] # Only the missing data\n",
    "import matplotlib\n",
    "matplotlib.rcParams['figure.figsize'] = (20,6)\n",
    "missing_percentage.plot(kind = 'barh')\n",
    "plt.title(\"Missig percentage of null values\")"
   ]
  },
  {
   "cell_type": "markdown",
   "id": "77cca793",
   "metadata": {},
   "source": [
    "## Observation : \n",
    "\n",
    "\n",
    "Dealing with the null values\n",
    "\n",
    "\n",
    "1. The columns having highest percentage of null values are :\n",
    "* Developer Website  \n",
    "* Privacy Policy\n",
    "\n",
    "these two are not that much helpful if we want we can drop these columns and in the further steps we drop and add some features in the dataset after the Analysis.\n",
    "\n",
    "2. we can drop the small null values for the columns\n",
    "\n",
    "* Size                 \n",
    "* Currency             \n",
    "* Installs             \n",
    "* Minimum Installs     \n",
    "* Developer Id         \n",
    "* Developer Email\n",
    "\n",
    "3. Rating,Rating Count,Released are important column so it is good to fill the null values.\n",
    "\n",
    "* Rating \n",
    "* Rating count\n",
    "* Minimum Andriod \n",
    "* Released \n"
   ]
  },
  {
   "cell_type": "markdown",
   "id": "62b2decc",
   "metadata": {},
   "source": [
    "## from observation 2 droping the null values of the columns got selected "
   ]
  },
  {
   "cell_type": "code",
   "execution_count": 20,
   "id": "a590a2c0",
   "metadata": {},
   "outputs": [],
   "source": [
    "df.dropna(subset = ['App Name','Size','Currency','Installs','Minimum Installs','Developer Id','Developer Email'], inplace = True)"
   ]
  },
  {
   "cell_type": "code",
   "execution_count": 21,
   "id": "ea5e9590",
   "metadata": {},
   "outputs": [
    {
     "data": {
      "text/plain": [
       "App Name                  0\n",
       "App Id                    0\n",
       "Category                  0\n",
       "Rating                22572\n",
       "Rating Count          22572\n",
       "Installs                  0\n",
       "Minimum Installs          0\n",
       "Maximum Installs          0\n",
       "Free                      0\n",
       "Price                     0\n",
       "Currency                  0\n",
       "Size                      0\n",
       "Minimum Android        6530\n",
       "Developer Id              0\n",
       "Developer Website    760716\n",
       "Developer Email           0\n",
       "Released              70748\n",
       "Last Updated              0\n",
       "Content Rating            0\n",
       "Privacy Policy       420845\n",
       "Ad Supported              0\n",
       "In App Purchases          0\n",
       "Editors Choice            0\n",
       "Scraped Time              0\n",
       "dtype: int64"
      ]
     },
     "execution_count": 21,
     "metadata": {},
     "output_type": "execute_result"
    }
   ],
   "source": [
    "df.isnull().sum()"
   ]
  },
  {
   "cell_type": "markdown",
   "id": "647610dc",
   "metadata": {},
   "source": [
    "## Now let's start cleaning the each row"
   ]
  },
  {
   "cell_type": "markdown",
   "id": "5a37309f",
   "metadata": {},
   "source": [
    "checking any duplicates in the App Name"
   ]
  },
  {
   "cell_type": "code",
   "execution_count": 22,
   "id": "3ed01faa",
   "metadata": {},
   "outputs": [
    {
     "data": {
      "text/plain": [
       "True"
      ]
     },
     "execution_count": 22,
     "metadata": {},
     "output_type": "execute_result"
    }
   ],
   "source": [
    "boolean = df['App Name'].duplicated().any()\n",
    "boolean"
   ]
  },
  {
   "cell_type": "code",
   "execution_count": 23,
   "id": "bdf13ec9",
   "metadata": {},
   "outputs": [
    {
     "data": {
      "text/plain": [
       "Tic Tac Toe                     382\n",
       "Calculator                      261\n",
       "Flashlight                      256\n",
       "BMI Calculator                  201\n",
       "Age Calculator                  190\n",
       "                               ... \n",
       "Foodiz Resto                      1\n",
       "Astra OtoReward                   1\n",
       "MedTerm Dictionary                1\n",
       "Urban garden and sowing.          1\n",
       "Biliyor Musun - Sonsuz Yarış      1\n",
       "Name: App Name, Length: 2177593, dtype: int64"
      ]
     },
     "execution_count": 23,
     "metadata": {},
     "output_type": "execute_result"
    }
   ],
   "source": [
    "df['App Name'].value_counts()"
   ]
  },
  {
   "cell_type": "markdown",
   "id": "5927abc0",
   "metadata": {},
   "source": [
    "from the above cell output we can see that App Name column has multiple rows. Let's check out that data in those rows is identical or not"
   ]
  },
  {
   "cell_type": "code",
   "execution_count": 24,
   "id": "7d207717",
   "metadata": {},
   "outputs": [
    {
     "data": {
      "text/html": [
       "<div>\n",
       "<style scoped>\n",
       "    .dataframe tbody tr th:only-of-type {\n",
       "        vertical-align: middle;\n",
       "    }\n",
       "\n",
       "    .dataframe tbody tr th {\n",
       "        vertical-align: top;\n",
       "    }\n",
       "\n",
       "    .dataframe thead th {\n",
       "        text-align: right;\n",
       "    }\n",
       "</style>\n",
       "<table border=\"1\" class=\"dataframe\">\n",
       "  <thead>\n",
       "    <tr style=\"text-align: right;\">\n",
       "      <th></th>\n",
       "      <th>App Name</th>\n",
       "      <th>App Id</th>\n",
       "      <th>Category</th>\n",
       "      <th>Rating</th>\n",
       "      <th>Rating Count</th>\n",
       "      <th>Installs</th>\n",
       "      <th>Minimum Installs</th>\n",
       "      <th>Maximum Installs</th>\n",
       "      <th>Free</th>\n",
       "      <th>Price</th>\n",
       "      <th>Currency</th>\n",
       "      <th>Size</th>\n",
       "      <th>Minimum Android</th>\n",
       "      <th>Developer Id</th>\n",
       "      <th>Developer Website</th>\n",
       "      <th>Developer Email</th>\n",
       "      <th>Released</th>\n",
       "      <th>Last Updated</th>\n",
       "      <th>Content Rating</th>\n",
       "      <th>Privacy Policy</th>\n",
       "      <th>Ad Supported</th>\n",
       "      <th>In App Purchases</th>\n",
       "      <th>Editors Choice</th>\n",
       "      <th>Scraped Time</th>\n",
       "    </tr>\n",
       "  </thead>\n",
       "  <tbody>\n",
       "    <tr>\n",
       "      <th>3918</th>\n",
       "      <td>Tic Tac Toe</td>\n",
       "      <td>com.dev.atte.tic_tac_toe</td>\n",
       "      <td>Puzzle</td>\n",
       "      <td>0.0</td>\n",
       "      <td>0.0</td>\n",
       "      <td>10+</td>\n",
       "      <td>10.0</td>\n",
       "      <td>30</td>\n",
       "      <td>True</td>\n",
       "      <td>0.0</td>\n",
       "      <td>USD</td>\n",
       "      <td>3.4M</td>\n",
       "      <td>4.0 and up</td>\n",
       "      <td>ATTE AKA FRANCOIS</td>\n",
       "      <td>https://ne2ad32ee.app-ads-txt.com</td>\n",
       "      <td>dev.atte.francois@gmail.com</td>\n",
       "      <td>May 18, 2018</td>\n",
       "      <td>May 18, 2018</td>\n",
       "      <td>Everyone</td>\n",
       "      <td>NaN</td>\n",
       "      <td>True</td>\n",
       "      <td>False</td>\n",
       "      <td>False</td>\n",
       "      <td>2021-06-15 20:23:22</td>\n",
       "    </tr>\n",
       "    <tr>\n",
       "      <th>13758</th>\n",
       "      <td>Tic Tac Toe</td>\n",
       "      <td>com.md.tictactoe</td>\n",
       "      <td>Board</td>\n",
       "      <td>0.0</td>\n",
       "      <td>0.0</td>\n",
       "      <td>10+</td>\n",
       "      <td>10.0</td>\n",
       "      <td>31</td>\n",
       "      <td>True</td>\n",
       "      <td>0.0</td>\n",
       "      <td>USD</td>\n",
       "      <td>34M</td>\n",
       "      <td>4.3 and up</td>\n",
       "      <td>Smart Digital Tools</td>\n",
       "      <td>NaN</td>\n",
       "      <td>msms.zaman@gmail.com</td>\n",
       "      <td>Nov 2, 2020</td>\n",
       "      <td>Nov 18, 2020</td>\n",
       "      <td>Everyone</td>\n",
       "      <td>https://smartdailytools.blogspot.com/2020/09/p...</td>\n",
       "      <td>True</td>\n",
       "      <td>False</td>\n",
       "      <td>False</td>\n",
       "      <td>2021-06-15 20:32:58</td>\n",
       "    </tr>\n",
       "    <tr>\n",
       "      <th>25351</th>\n",
       "      <td>Tic Tac Toe</td>\n",
       "      <td>com.sthirumuru.tictactoenew</td>\n",
       "      <td>Board</td>\n",
       "      <td>4.2</td>\n",
       "      <td>11.0</td>\n",
       "      <td>5,000+</td>\n",
       "      <td>5000.0</td>\n",
       "      <td>6379</td>\n",
       "      <td>True</td>\n",
       "      <td>0.0</td>\n",
       "      <td>USD</td>\n",
       "      <td>7.4M</td>\n",
       "      <td>7.0 and up</td>\n",
       "      <td>Sundeep Reddy Thirumuru</td>\n",
       "      <td>NaN</td>\n",
       "      <td>sundeep.thirumuru@gmail.com</td>\n",
       "      <td>Apr 13, 2021</td>\n",
       "      <td>Jun 03, 2021</td>\n",
       "      <td>Everyone</td>\n",
       "      <td>NaN</td>\n",
       "      <td>True</td>\n",
       "      <td>False</td>\n",
       "      <td>False</td>\n",
       "      <td>2021-06-15 20:44:27</td>\n",
       "    </tr>\n",
       "    <tr>\n",
       "      <th>28142</th>\n",
       "      <td>Tic Tac Toe</td>\n",
       "      <td>com.fsk00x.TicTacToe</td>\n",
       "      <td>Board</td>\n",
       "      <td>0.0</td>\n",
       "      <td>0.0</td>\n",
       "      <td>500+</td>\n",
       "      <td>500.0</td>\n",
       "      <td>922</td>\n",
       "      <td>True</td>\n",
       "      <td>0.0</td>\n",
       "      <td>USD</td>\n",
       "      <td>8.6M</td>\n",
       "      <td>4.1 and up</td>\n",
       "      <td>SteadFast Games</td>\n",
       "      <td>NaN</td>\n",
       "      <td>devmethyl@outlook.com</td>\n",
       "      <td>Feb 13, 2020</td>\n",
       "      <td>Feb 13, 2020</td>\n",
       "      <td>Everyone</td>\n",
       "      <td>NaN</td>\n",
       "      <td>True</td>\n",
       "      <td>False</td>\n",
       "      <td>False</td>\n",
       "      <td>2021-06-15 20:47:17</td>\n",
       "    </tr>\n",
       "    <tr>\n",
       "      <th>30962</th>\n",
       "      <td>Tic Tac Toe</td>\n",
       "      <td>net.snatchdreams.tictactoe</td>\n",
       "      <td>Puzzle</td>\n",
       "      <td>0.0</td>\n",
       "      <td>0.0</td>\n",
       "      <td>10+</td>\n",
       "      <td>10.0</td>\n",
       "      <td>38</td>\n",
       "      <td>True</td>\n",
       "      <td>0.0</td>\n",
       "      <td>USD</td>\n",
       "      <td>927k</td>\n",
       "      <td>4.0 and up</td>\n",
       "      <td>SnatchDreams</td>\n",
       "      <td>https://www.snatchdreams.net</td>\n",
       "      <td>snatchdreams@gmail.com</td>\n",
       "      <td>Jul 16, 2017</td>\n",
       "      <td>Oct 16, 2019</td>\n",
       "      <td>Everyone</td>\n",
       "      <td>https://www.snatchdreams.net/privacy/tic-tac-toe/</td>\n",
       "      <td>True</td>\n",
       "      <td>False</td>\n",
       "      <td>False</td>\n",
       "      <td>2021-06-15 20:50:12</td>\n",
       "    </tr>\n",
       "    <tr>\n",
       "      <th>...</th>\n",
       "      <td>...</td>\n",
       "      <td>...</td>\n",
       "      <td>...</td>\n",
       "      <td>...</td>\n",
       "      <td>...</td>\n",
       "      <td>...</td>\n",
       "      <td>...</td>\n",
       "      <td>...</td>\n",
       "      <td>...</td>\n",
       "      <td>...</td>\n",
       "      <td>...</td>\n",
       "      <td>...</td>\n",
       "      <td>...</td>\n",
       "      <td>...</td>\n",
       "      <td>...</td>\n",
       "      <td>...</td>\n",
       "      <td>...</td>\n",
       "      <td>...</td>\n",
       "      <td>...</td>\n",
       "      <td>...</td>\n",
       "      <td>...</td>\n",
       "      <td>...</td>\n",
       "      <td>...</td>\n",
       "      <td>...</td>\n",
       "    </tr>\n",
       "    <tr>\n",
       "      <th>2272773</th>\n",
       "      <td>Tic Tac Toe</td>\n",
       "      <td>com.tictactoe.MobileAppsPro</td>\n",
       "      <td>Board</td>\n",
       "      <td>3.8</td>\n",
       "      <td>9269.0</td>\n",
       "      <td>500,000+</td>\n",
       "      <td>500000.0</td>\n",
       "      <td>800662</td>\n",
       "      <td>True</td>\n",
       "      <td>0.0</td>\n",
       "      <td>USD</td>\n",
       "      <td>2.3M</td>\n",
       "      <td>2.3 and up</td>\n",
       "      <td>Mobile Apps Pro</td>\n",
       "      <td>NaN</td>\n",
       "      <td>smartyka@gmail.com</td>\n",
       "      <td>Jan 9, 2015</td>\n",
       "      <td>May 20, 2015</td>\n",
       "      <td>Everyone</td>\n",
       "      <td>http://mobileappspro.yolasite.com</td>\n",
       "      <td>True</td>\n",
       "      <td>False</td>\n",
       "      <td>False</td>\n",
       "      <td>2021-06-16 12:23:56</td>\n",
       "    </tr>\n",
       "    <tr>\n",
       "      <th>2281376</th>\n",
       "      <td>Tic Tac Toe</td>\n",
       "      <td>com.erjainam.tictactoe.release</td>\n",
       "      <td>Board</td>\n",
       "      <td>0.0</td>\n",
       "      <td>0.0</td>\n",
       "      <td>50+</td>\n",
       "      <td>50.0</td>\n",
       "      <td>50</td>\n",
       "      <td>True</td>\n",
       "      <td>0.0</td>\n",
       "      <td>USD</td>\n",
       "      <td>3.5M</td>\n",
       "      <td>5.0 and up</td>\n",
       "      <td>Jainam Jhaveri</td>\n",
       "      <td>https://erjainam.com</td>\n",
       "      <td>engineerjainam@gmail.com</td>\n",
       "      <td>Sep 2, 2018</td>\n",
       "      <td>Sep 02, 2018</td>\n",
       "      <td>Everyone</td>\n",
       "      <td>https://docs.google.com/document/d/1Tyi5D3VxZu...</td>\n",
       "      <td>True</td>\n",
       "      <td>False</td>\n",
       "      <td>False</td>\n",
       "      <td>2021-06-16 12:31:30</td>\n",
       "    </tr>\n",
       "    <tr>\n",
       "      <th>2282023</th>\n",
       "      <td>Tic Tac Toe</td>\n",
       "      <td>com.swapworld.tic_tac_toe</td>\n",
       "      <td>Board</td>\n",
       "      <td>4.7</td>\n",
       "      <td>7.0</td>\n",
       "      <td>10+</td>\n",
       "      <td>10.0</td>\n",
       "      <td>34</td>\n",
       "      <td>True</td>\n",
       "      <td>0.0</td>\n",
       "      <td>USD</td>\n",
       "      <td>5.3M</td>\n",
       "      <td>4.1 and up</td>\n",
       "      <td>Cybertron's Hogwarts</td>\n",
       "      <td>http://prudhvikchirunomula.pythonanywhere.com/</td>\n",
       "      <td>prudhvik.1996@gmail.com</td>\n",
       "      <td>Sep 4, 2019</td>\n",
       "      <td>Sep 17, 2019</td>\n",
       "      <td>Everyone</td>\n",
       "      <td>NaN</td>\n",
       "      <td>False</td>\n",
       "      <td>False</td>\n",
       "      <td>False</td>\n",
       "      <td>2021-06-16 12:32:05</td>\n",
       "    </tr>\n",
       "    <tr>\n",
       "      <th>2299121</th>\n",
       "      <td>Tic Tac Toe</td>\n",
       "      <td>com.infuse.tictactoe</td>\n",
       "      <td>Board</td>\n",
       "      <td>4.8</td>\n",
       "      <td>20.0</td>\n",
       "      <td>100+</td>\n",
       "      <td>100.0</td>\n",
       "      <td>462</td>\n",
       "      <td>True</td>\n",
       "      <td>0.0</td>\n",
       "      <td>USD</td>\n",
       "      <td>2.1M</td>\n",
       "      <td>2.2 and up</td>\n",
       "      <td>Infuse Apps</td>\n",
       "      <td>http://www.infuseapps.com</td>\n",
       "      <td>infuseandroidapps@gmail.com</td>\n",
       "      <td>Jan 18, 2015</td>\n",
       "      <td>Jan 18, 2015</td>\n",
       "      <td>Everyone</td>\n",
       "      <td>NaN</td>\n",
       "      <td>True</td>\n",
       "      <td>False</td>\n",
       "      <td>False</td>\n",
       "      <td>2021-06-16 12:47:11</td>\n",
       "    </tr>\n",
       "    <tr>\n",
       "      <th>2310375</th>\n",
       "      <td>Tic Tac Toe</td>\n",
       "      <td>com.justmailtoavi.avinashk.threet</td>\n",
       "      <td>Puzzle</td>\n",
       "      <td>4.7</td>\n",
       "      <td>10.0</td>\n",
       "      <td>100+</td>\n",
       "      <td>100.0</td>\n",
       "      <td>173</td>\n",
       "      <td>True</td>\n",
       "      <td>0.0</td>\n",
       "      <td>USD</td>\n",
       "      <td>1.7M</td>\n",
       "      <td>4.4 and up</td>\n",
       "      <td>RentMyTent</td>\n",
       "      <td>NaN</td>\n",
       "      <td>justmailtoavi@gmail.com</td>\n",
       "      <td>Mar 30, 2016</td>\n",
       "      <td>Apr 01, 2016</td>\n",
       "      <td>Everyone</td>\n",
       "      <td>NaN</td>\n",
       "      <td>False</td>\n",
       "      <td>False</td>\n",
       "      <td>False</td>\n",
       "      <td>2021-06-16 12:57:05</td>\n",
       "    </tr>\n",
       "  </tbody>\n",
       "</table>\n",
       "<p>382 rows × 24 columns</p>\n",
       "</div>"
      ],
      "text/plain": [
       "            App Name                             App Id Category  Rating  \\\n",
       "3918     Tic Tac Toe           com.dev.atte.tic_tac_toe   Puzzle     0.0   \n",
       "13758    Tic Tac Toe                   com.md.tictactoe    Board     0.0   \n",
       "25351    Tic Tac Toe        com.sthirumuru.tictactoenew    Board     4.2   \n",
       "28142    Tic Tac Toe               com.fsk00x.TicTacToe    Board     0.0   \n",
       "30962    Tic Tac Toe         net.snatchdreams.tictactoe   Puzzle     0.0   \n",
       "...              ...                                ...      ...     ...   \n",
       "2272773  Tic Tac Toe        com.tictactoe.MobileAppsPro    Board     3.8   \n",
       "2281376  Tic Tac Toe     com.erjainam.tictactoe.release    Board     0.0   \n",
       "2282023  Tic Tac Toe          com.swapworld.tic_tac_toe    Board     4.7   \n",
       "2299121  Tic Tac Toe               com.infuse.tictactoe    Board     4.8   \n",
       "2310375  Tic Tac Toe  com.justmailtoavi.avinashk.threet   Puzzle     4.7   \n",
       "\n",
       "         Rating Count  Installs  Minimum Installs  Maximum Installs  Free  \\\n",
       "3918              0.0       10+              10.0                30  True   \n",
       "13758             0.0       10+              10.0                31  True   \n",
       "25351            11.0    5,000+            5000.0              6379  True   \n",
       "28142             0.0      500+             500.0               922  True   \n",
       "30962             0.0       10+              10.0                38  True   \n",
       "...               ...       ...               ...               ...   ...   \n",
       "2272773        9269.0  500,000+          500000.0            800662  True   \n",
       "2281376           0.0       50+              50.0                50  True   \n",
       "2282023           7.0       10+              10.0                34  True   \n",
       "2299121          20.0      100+             100.0               462  True   \n",
       "2310375          10.0      100+             100.0               173  True   \n",
       "\n",
       "         Price Currency  Size Minimum Android             Developer Id  \\\n",
       "3918       0.0      USD  3.4M      4.0 and up        ATTE AKA FRANCOIS   \n",
       "13758      0.0      USD   34M      4.3 and up      Smart Digital Tools   \n",
       "25351      0.0      USD  7.4M      7.0 and up  Sundeep Reddy Thirumuru   \n",
       "28142      0.0      USD  8.6M      4.1 and up          SteadFast Games   \n",
       "30962      0.0      USD  927k      4.0 and up             SnatchDreams   \n",
       "...        ...      ...   ...             ...                      ...   \n",
       "2272773    0.0      USD  2.3M      2.3 and up          Mobile Apps Pro   \n",
       "2281376    0.0      USD  3.5M      5.0 and up           Jainam Jhaveri   \n",
       "2282023    0.0      USD  5.3M      4.1 and up     Cybertron's Hogwarts   \n",
       "2299121    0.0      USD  2.1M      2.2 and up              Infuse Apps   \n",
       "2310375    0.0      USD  1.7M      4.4 and up               RentMyTent   \n",
       "\n",
       "                                      Developer Website  \\\n",
       "3918                  https://ne2ad32ee.app-ads-txt.com   \n",
       "13758                                               NaN   \n",
       "25351                                               NaN   \n",
       "28142                                               NaN   \n",
       "30962                      https://www.snatchdreams.net   \n",
       "...                                                 ...   \n",
       "2272773                                             NaN   \n",
       "2281376                            https://erjainam.com   \n",
       "2282023  http://prudhvikchirunomula.pythonanywhere.com/   \n",
       "2299121                       http://www.infuseapps.com   \n",
       "2310375                                             NaN   \n",
       "\n",
       "                     Developer Email      Released  Last Updated  \\\n",
       "3918     dev.atte.francois@gmail.com  May 18, 2018  May 18, 2018   \n",
       "13758           msms.zaman@gmail.com   Nov 2, 2020  Nov 18, 2020   \n",
       "25351    sundeep.thirumuru@gmail.com  Apr 13, 2021  Jun 03, 2021   \n",
       "28142          devmethyl@outlook.com  Feb 13, 2020  Feb 13, 2020   \n",
       "30962         snatchdreams@gmail.com  Jul 16, 2017  Oct 16, 2019   \n",
       "...                              ...           ...           ...   \n",
       "2272773           smartyka@gmail.com   Jan 9, 2015  May 20, 2015   \n",
       "2281376     engineerjainam@gmail.com   Sep 2, 2018  Sep 02, 2018   \n",
       "2282023      prudhvik.1996@gmail.com   Sep 4, 2019  Sep 17, 2019   \n",
       "2299121  infuseandroidapps@gmail.com  Jan 18, 2015  Jan 18, 2015   \n",
       "2310375      justmailtoavi@gmail.com  Mar 30, 2016  Apr 01, 2016   \n",
       "\n",
       "        Content Rating                                     Privacy Policy  \\\n",
       "3918          Everyone                                                NaN   \n",
       "13758         Everyone  https://smartdailytools.blogspot.com/2020/09/p...   \n",
       "25351         Everyone                                                NaN   \n",
       "28142         Everyone                                                NaN   \n",
       "30962         Everyone  https://www.snatchdreams.net/privacy/tic-tac-toe/   \n",
       "...                ...                                                ...   \n",
       "2272773       Everyone                  http://mobileappspro.yolasite.com   \n",
       "2281376       Everyone  https://docs.google.com/document/d/1Tyi5D3VxZu...   \n",
       "2282023       Everyone                                                NaN   \n",
       "2299121       Everyone                                                NaN   \n",
       "2310375       Everyone                                                NaN   \n",
       "\n",
       "         Ad Supported  In App Purchases  Editors Choice         Scraped Time  \n",
       "3918             True             False           False  2021-06-15 20:23:22  \n",
       "13758            True             False           False  2021-06-15 20:32:58  \n",
       "25351            True             False           False  2021-06-15 20:44:27  \n",
       "28142            True             False           False  2021-06-15 20:47:17  \n",
       "30962            True             False           False  2021-06-15 20:50:12  \n",
       "...               ...               ...             ...                  ...  \n",
       "2272773          True             False           False  2021-06-16 12:23:56  \n",
       "2281376          True             False           False  2021-06-16 12:31:30  \n",
       "2282023         False             False           False  2021-06-16 12:32:05  \n",
       "2299121          True             False           False  2021-06-16 12:47:11  \n",
       "2310375         False             False           False  2021-06-16 12:57:05  \n",
       "\n",
       "[382 rows x 24 columns]"
      ]
     },
     "execution_count": 24,
     "metadata": {},
     "output_type": "execute_result"
    }
   ],
   "source": [
    "df[df['App Name'] == 'Tic Tac Toe']"
   ]
  },
  {
   "cell_type": "code",
   "execution_count": 25,
   "id": "6c19dabb",
   "metadata": {},
   "outputs": [
    {
     "data": {
      "text/plain": [
       "False"
      ]
     },
     "execution_count": 25,
     "metadata": {},
     "output_type": "execute_result"
    }
   ],
   "source": [
    "df['App Id'].duplicated().any()"
   ]
  },
  {
   "cell_type": "code",
   "execution_count": 26,
   "id": "20325332",
   "metadata": {},
   "outputs": [
    {
     "data": {
      "text/plain": [
       "com.ishakwe.gakondo                    1\n",
       "com.avai.amp.dewtour                   1\n",
       "com.myhomebuy                          1\n",
       "com.apocalipseescatologia.app          1\n",
       "com.puzzlegame.wordconnect             1\n",
       "                                      ..\n",
       "id.compro.virtualcompetition           1\n",
       "com.fitivity.basketball_point_guard    1\n",
       "smartgr.gardenshower.ideas             1\n",
       "com.euroland.mobiletools.ae_nbad       1\n",
       "com.yyazilim.biliyormusun              1\n",
       "Name: App Id, Length: 2312548, dtype: int64"
      ]
     },
     "execution_count": 26,
     "metadata": {},
     "output_type": "execute_result"
    }
   ],
   "source": [
    "df['App Id'].value_counts()"
   ]
  },
  {
   "cell_type": "markdown",
   "id": "d09f0e2c",
   "metadata": {},
   "source": [
    "   \n",
    "1. we have the Apps with the same names but with the unique App IDs so the Apps are differed based on the App IDs"
   ]
  },
  {
   "cell_type": "markdown",
   "id": "866a33b8",
   "metadata": {},
   "source": [
    "## let's Explore the numerical columns\n",
    "\n",
    "\n"
   ]
  },
  {
   "cell_type": "code",
   "execution_count": 28,
   "id": "24742b86",
   "metadata": {},
   "outputs": [
    {
     "data": {
      "text/plain": [
       "array(['10+', '5,000+', '50+', '100+', '1,000+', '500+', '50,000+',\n",
       "       '10,000+', '1+', '500,000+', '100,000+', '5+', '10,000,000+',\n",
       "       '1,000,000+', '5,000,000+', '0+', '100,000,000+', '50,000,000+',\n",
       "       '1,000,000,000+', '500,000,000+', '5,000,000,000+',\n",
       "       '10,000,000,000+'], dtype=object)"
      ]
     },
     "execution_count": 28,
     "metadata": {},
     "output_type": "execute_result"
    }
   ],
   "source": [
    "df['Installs'].unique()"
   ]
  },
  {
   "cell_type": "markdown",
   "id": "72a962b3",
   "metadata": {},
   "source": [
    "It is in the object type, we need to change it into the int type"
   ]
  },
  {
   "cell_type": "code",
   "execution_count": 30,
   "id": "aaf70e36",
   "metadata": {},
   "outputs": [],
   "source": [
    "df['Installs'] = df['Installs'].str.split('+').str[0]    # reomoves the + symbol\n",
    "df['Installs'].replace(',','', regex=True, inplace=True) #replace the commas ',' in the install column\n",
    "df['Installs'] = pd.to_numeric(df['Installs'])              # converting it to the int type"
   ]
  },
  {
   "cell_type": "code",
   "execution_count": 31,
   "id": "6b3391f8",
   "metadata": {},
   "outputs": [
    {
     "data": {
      "text/plain": [
       "array([         10,        5000,          50,         100,        1000,\n",
       "               500,       50000,       10000,           1,      500000,\n",
       "            100000,           5,    10000000,     1000000,     5000000,\n",
       "                 0,   100000000,    50000000,  1000000000,   500000000,\n",
       "        5000000000, 10000000000], dtype=int64)"
      ]
     },
     "execution_count": 31,
     "metadata": {},
     "output_type": "execute_result"
    }
   ],
   "source": [
    "df['Installs'].unique()"
   ]
  },
  {
   "cell_type": "code",
   "execution_count": 32,
   "id": "78993ebb",
   "metadata": {},
   "outputs": [
    {
     "data": {
      "text/plain": [
       "array(['USD', 'XXX', 'CAD', 'EUR', 'INR', 'VND', 'GBP', 'BRL', 'KRW',\n",
       "       'TRY', 'RUB', 'SGD', 'AUD', 'PKR', 'ZAR'], dtype=object)"
      ]
     },
     "execution_count": 32,
     "metadata": {},
     "output_type": "execute_result"
    }
   ],
   "source": [
    "df['Currency'].unique()"
   ]
  },
  {
   "cell_type": "code",
   "execution_count": 33,
   "id": "7c789ef0",
   "metadata": {},
   "outputs": [
    {
     "data": {
      "text/plain": [
       "array(['10M', '2.9M', '3.7M', ..., '405M', '3.2k', '512M'], dtype=object)"
      ]
     },
     "execution_count": 33,
     "metadata": {},
     "output_type": "execute_result"
    }
   ],
   "source": [
    "df['Size'].unique()"
   ]
  },
  {
   "cell_type": "code",
   "execution_count": 34,
   "id": "50aa2443",
   "metadata": {},
   "outputs": [],
   "source": [
    "df['Size'] = df['Size'].apply(lambda x: str(x).replace('M', '') if 'M' in str(x) else x)"
   ]
  },
  {
   "cell_type": "code",
   "execution_count": 35,
   "id": "286ae6d4",
   "metadata": {},
   "outputs": [],
   "source": [
    "#df['Size'] = df['Size'].apply(lambda x: float(str(x).replace('k', '')) / 1000 if 'k' in str(x) else x)"
   ]
  },
  {
   "cell_type": "markdown",
   "id": "1f030602",
   "metadata": {},
   "source": [
    "here we get a missmatched value with the data\n",
    "we got the value 1,018 we can drop it or we can assume as it may be a '.' (dot) the would incorrectly added to the dataset. so let assume it as dot for now and repalce the ',' with the dot '.'"
   ]
  },
  {
   "cell_type": "code",
   "execution_count": 36,
   "id": "7d492b6b",
   "metadata": {},
   "outputs": [],
   "source": [
    "df['Size'] = df['Size'].apply(lambda x: str(x).replace(',', '.') if ',' in str(x) else x)"
   ]
  },
  {
   "cell_type": "markdown",
   "id": "c7719ca3",
   "metadata": {},
   "source": [
    "conversion of kbs to mb"
   ]
  },
  {
   "cell_type": "code",
   "execution_count": 37,
   "id": "94975b40",
   "metadata": {},
   "outputs": [],
   "source": [
    "df['Size'] = df['Size'].apply(lambda x: float(str(x).replace('k', '')) / 1000 if 'k' in str(x) else x)"
   ]
  },
  {
   "cell_type": "code",
   "execution_count": 38,
   "id": "a00ed991",
   "metadata": {},
   "outputs": [],
   "source": [
    "#df['Size'] = df['Size'].apply(lambda x: float(x))"
   ]
  },
  {
   "cell_type": "markdown",
   "id": "b76256df",
   "metadata": {},
   "source": [
    "we get an another missmatch value in the data set which is 'Varies with device' it means the size of the App may vaies with the device---> but here I am assuming it as 0"
   ]
  },
  {
   "cell_type": "code",
   "execution_count": 40,
   "id": "e93ea065",
   "metadata": {},
   "outputs": [],
   "source": [
    "df['Size'] = df['Size'].apply(lambda x: str(x).replace('Varies with device', '0') if 'Varies with device' in str(x) else x)"
   ]
  },
  {
   "cell_type": "code",
   "execution_count": 41,
   "id": "c8fd2b79",
   "metadata": {},
   "outputs": [],
   "source": [
    "#df['Size'] = df['Size'].apply(lambda x: float(x))"
   ]
  },
  {
   "cell_type": "markdown",
   "id": "8a491630",
   "metadata": {},
   "source": [
    "conversion of data Gbs to Mb"
   ]
  },
  {
   "cell_type": "code",
   "execution_count": 42,
   "id": "530d48eb",
   "metadata": {},
   "outputs": [],
   "source": [
    "df['Size'] = df['Size'].apply(lambda x: float(str(x).replace('G', '')) * 1000 if 'G' in str(x) else x)"
   ]
  },
  {
   "cell_type": "code",
   "execution_count": 43,
   "id": "3dca9c83",
   "metadata": {},
   "outputs": [],
   "source": [
    "df['Size'] = df['Size'].apply(lambda x: float(x))"
   ]
  },
  {
   "cell_type": "code",
   "execution_count": 44,
   "id": "0609903f",
   "metadata": {},
   "outputs": [
    {
     "data": {
      "text/plain": [
       "dtype('float64')"
      ]
     },
     "execution_count": 44,
     "metadata": {},
     "output_type": "execute_result"
    }
   ],
   "source": [
    "df.dtypes['Size']"
   ]
  },
  {
   "cell_type": "code",
   "execution_count": 45,
   "id": "4fa5debe",
   "metadata": {},
   "outputs": [
    {
     "data": {
      "text/plain": [
       "0            7.1 and up\n",
       "1            5.0 and up\n",
       "2          4.0.3 and up\n",
       "3          4.0.3 and up\n",
       "4            4.1 and up\n",
       "               ...     \n",
       "2312939      4.1 and up\n",
       "2312940      4.1 and up\n",
       "2312941      5.0 and up\n",
       "2312942      5.0 and up\n",
       "2312943      5.0 and up\n",
       "Name: Minimum Android, Length: 2312548, dtype: object"
      ]
     },
     "execution_count": 45,
     "metadata": {},
     "output_type": "execute_result"
    }
   ],
   "source": [
    "df['Minimum Android']"
   ]
  },
  {
   "cell_type": "code",
   "execution_count": 46,
   "id": "4f66cd24",
   "metadata": {},
   "outputs": [
    {
     "data": {
      "text/plain": [
       "0          Everyone\n",
       "1          Everyone\n",
       "2          Everyone\n",
       "3          Everyone\n",
       "4          Everyone\n",
       "             ...   \n",
       "2312939        Teen\n",
       "2312940    Everyone\n",
       "2312941    Everyone\n",
       "2312942    Everyone\n",
       "2312943    Everyone\n",
       "Name: Content Rating, Length: 2312548, dtype: object"
      ]
     },
     "execution_count": 46,
     "metadata": {},
     "output_type": "execute_result"
    }
   ],
   "source": [
    "df['Content Rating']"
   ]
  },
  {
   "cell_type": "code",
   "execution_count": 47,
   "id": "74de0ebd",
   "metadata": {},
   "outputs": [
    {
     "data": {
      "text/plain": [
       "0          Feb 26, 2020\n",
       "1          May 21, 2020\n",
       "2           Aug 9, 2019\n",
       "3          Sep 10, 2018\n",
       "4          Feb 21, 2020\n",
       "               ...     \n",
       "2312939             NaN\n",
       "2312940    Jan 17, 2018\n",
       "2312941    Aug 19, 2018\n",
       "2312942     Aug 1, 2016\n",
       "2312943     Aug 9, 2019\n",
       "Name: Released, Length: 2312548, dtype: object"
      ]
     },
     "execution_count": 47,
     "metadata": {},
     "output_type": "execute_result"
    }
   ],
   "source": [
    "df['Released']"
   ]
  },
  {
   "cell_type": "code",
   "execution_count": 48,
   "id": "6b875cb4",
   "metadata": {},
   "outputs": [
    {
     "data": {
      "text/plain": [
       "0          Feb 26, 2020\n",
       "1          May 06, 2021\n",
       "2          Aug 19, 2019\n",
       "3          Oct 13, 2018\n",
       "4          Nov 12, 2018\n",
       "               ...     \n",
       "2312939    Jun 01, 2021\n",
       "2312940    Feb 02, 2018\n",
       "2312941    Aug 19, 2018\n",
       "2312942    May 05, 2021\n",
       "2312943    Aug 19, 2019\n",
       "Name: Last Updated, Length: 2312548, dtype: object"
      ]
     },
     "execution_count": 48,
     "metadata": {},
     "output_type": "execute_result"
    }
   ],
   "source": [
    "df['Last Updated']"
   ]
  },
  {
   "cell_type": "code",
   "execution_count": 49,
   "id": "850a2cb8",
   "metadata": {},
   "outputs": [
    {
     "data": {
      "text/plain": [
       "0                         https://beniyizibyose.tk/projects/\n",
       "1          https://dev4phones.wordpress.com/licencia-de-uso/\n",
       "2          https://www.vietnamairlines.com/vn/en/terms-an...\n",
       "3                                                        NaN\n",
       "4                                http://www.horodyski.com.pl\n",
       "                                 ...                        \n",
       "2312939               http://a.4399sy.com.hk/user/aggreement\n",
       "2312940      http://www.oru.edu/about-oru/privacy-policy.php\n",
       "2312941    https://appoworld.000webhostapp.com/datastruct...\n",
       "2312942    https://docs.google.com/document/d/1x-9reZuLRX...\n",
       "2312943    https://biliyor-musun-sons.flycricket.io/priva...\n",
       "Name: Privacy Policy, Length: 2312548, dtype: object"
      ]
     },
     "execution_count": 49,
     "metadata": {},
     "output_type": "execute_result"
    }
   ],
   "source": [
    "df['Privacy Policy']"
   ]
  },
  {
   "cell_type": "code",
   "execution_count": 50,
   "id": "7f72b098",
   "metadata": {},
   "outputs": [
    {
     "data": {
      "text/plain": [
       "0          2021-06-15 20:19:35\n",
       "1          2021-06-15 20:19:35\n",
       "2          2021-06-15 20:19:35\n",
       "3          2021-06-15 20:19:35\n",
       "4          2021-06-15 20:19:35\n",
       "                  ...         \n",
       "2312939    2021-06-16 12:59:18\n",
       "2312940    2021-06-16 12:59:19\n",
       "2312941    2021-06-16 12:59:19\n",
       "2312942    2021-06-16 12:59:19\n",
       "2312943    2021-06-16 12:59:19\n",
       "Name: Scraped Time, Length: 2312548, dtype: object"
      ]
     },
     "execution_count": 50,
     "metadata": {},
     "output_type": "execute_result"
    }
   ],
   "source": [
    "df['Scraped Time']"
   ]
  },
  {
   "cell_type": "code",
   "execution_count": 51,
   "id": "2d5b7b5f",
   "metadata": {},
   "outputs": [
    {
     "data": {
      "text/plain": [
       "0          True\n",
       "1          True\n",
       "2          True\n",
       "3          True\n",
       "4          True\n",
       "           ... \n",
       "2312939    True\n",
       "2312940    True\n",
       "2312941    True\n",
       "2312942    True\n",
       "2312943    True\n",
       "Name: Free, Length: 2312548, dtype: bool"
      ]
     },
     "execution_count": 51,
     "metadata": {},
     "output_type": "execute_result"
    }
   ],
   "source": [
    "df['Free']"
   ]
  },
  {
   "cell_type": "markdown",
   "id": "bd62fb77",
   "metadata": {},
   "source": [
    "Creataing the column type for free and paid Apps by using the Free column, it's helpfull while dealing with the paid and Free Apps"
   ]
  },
  {
   "cell_type": "code",
   "execution_count": 52,
   "id": "8a0f5ac9",
   "metadata": {},
   "outputs": [],
   "source": [
    "df['Type'] = np.where(df['Free'] == True,'Free','Paid')\n",
    "df.drop(['Free'],axis=1, inplace= True )"
   ]
  },
  {
   "cell_type": "raw",
   "id": "f063e770",
   "metadata": {},
   "source": [
    "let's clean the Content Rating column"
   ]
  },
  {
   "cell_type": "code",
   "execution_count": 53,
   "id": "590b323b",
   "metadata": {},
   "outputs": [
    {
     "data": {
      "text/plain": [
       "array(['Everyone', 'Teen', 'Mature 17+', 'Everyone 10+',\n",
       "       'Adults only 18+', 'Unrated'], dtype=object)"
      ]
     },
     "execution_count": 53,
     "metadata": {},
     "output_type": "execute_result"
    }
   ],
   "source": [
    "df['Content Rating'].unique()"
   ]
  },
  {
   "cell_type": "code",
   "execution_count": 54,
   "id": "8d62252e",
   "metadata": {},
   "outputs": [
    {
     "data": {
      "text/plain": [
       "Everyone           2021788\n",
       "Teen                196311\n",
       "Mature 17+           60278\n",
       "Everyone 10+         33881\n",
       "Unrated                154\n",
       "Adults only 18+        136\n",
       "Name: Content Rating, dtype: int64"
      ]
     },
     "execution_count": 54,
     "metadata": {},
     "output_type": "execute_result"
    }
   ],
   "source": [
    "df['Content Rating'].value_counts()"
   ]
  },
  {
   "cell_type": "markdown",
   "id": "7b3cd534",
   "metadata": {},
   "source": [
    "## Observation :     \n",
    "1. we have varies Categories in the content Rating column :    \n",
    "   * Everyone\n",
    "   * Teen\n",
    "   * Mature 17+\n",
    "   * Everyone 10+\n",
    "   * Unrated\n",
    "   * Adults only 18+             \n",
    "\n",
    "Now, we makes this Categories to a simple 3 Categories for better understanding :     \n",
    "   Everyone, Teen, Adults\n",
    "    \n",
    "   * Mature 17+   ----> to Adults\n",
    "   * Everyone 10+ ----> to Teen\n",
    "   * Unrated      ----> to Everyone\n",
    "   * Adults only 18+ -> to Adults "
   ]
  },
  {
   "cell_type": "code",
   "execution_count": 55,
   "id": "5dd47d41",
   "metadata": {},
   "outputs": [],
   "source": [
    "df[\"Content Rating\"]=df[\"Content Rating\"].replace(\"Unrated\",\"Everyone\")\n",
    "df[\"Content Rating\"]=df[\"Content Rating\"].replace(\"Everyone 10+\",\"Teen\")\n",
    "df[\"Content Rating\"]=df[\"Content Rating\"].replace(\"Mature 17+\",\"Adults\")\n",
    "df[\"Content Rating\"]=df[\"Content Rating\"].replace(\"Adults only 18+\",\"Adults\")"
   ]
  },
  {
   "cell_type": "code",
   "execution_count": 56,
   "id": "23d7063d",
   "metadata": {},
   "outputs": [
    {
     "data": {
      "text/plain": [
       "array(['Everyone', 'Teen', 'Adults'], dtype=object)"
      ]
     },
     "execution_count": 56,
     "metadata": {},
     "output_type": "execute_result"
    }
   ],
   "source": [
    "df['Content Rating'].unique()"
   ]
  },
  {
   "cell_type": "code",
   "execution_count": 57,
   "id": "685e7179",
   "metadata": {},
   "outputs": [
    {
     "name": "stdout",
     "output_type": "stream",
     "text": [
      "<class 'pandas.core.frame.DataFrame'>\n",
      "Int64Index: 2312548 entries, 0 to 2312943\n",
      "Data columns (total 24 columns):\n",
      " #   Column             Dtype  \n",
      "---  ------             -----  \n",
      " 0   App Name           object \n",
      " 1   App Id             object \n",
      " 2   Category           object \n",
      " 3   Rating             float64\n",
      " 4   Rating Count       float64\n",
      " 5   Installs           int64  \n",
      " 6   Minimum Installs   float64\n",
      " 7   Maximum Installs   int64  \n",
      " 8   Price              float64\n",
      " 9   Currency           object \n",
      " 10  Size               float64\n",
      " 11  Minimum Android    object \n",
      " 12  Developer Id       object \n",
      " 13  Developer Website  object \n",
      " 14  Developer Email    object \n",
      " 15  Released           object \n",
      " 16  Last Updated       object \n",
      " 17  Content Rating     object \n",
      " 18  Privacy Policy     object \n",
      " 19  Ad Supported       bool   \n",
      " 20  In App Purchases   bool   \n",
      " 21  Editors Choice     bool   \n",
      " 22  Scraped Time       object \n",
      " 23  Type               object \n",
      "dtypes: bool(3), float64(5), int64(2), object(14)\n",
      "memory usage: 394.8+ MB\n"
     ]
    }
   ],
   "source": [
    "df.info()"
   ]
  },
  {
   "cell_type": "code",
   "execution_count": 58,
   "id": "a96389bd",
   "metadata": {},
   "outputs": [
    {
     "data": {
      "text/plain": [
       "array([0. , 4.4, 5. , 4.5, 2. , 4.7, 4.9, 3.9, 3.7, 4.2, 3.4, 3.8, 4.6,\n",
       "       4.1, 2.5, 2.3, 2.1, 2.7, 4.3, 3.1, 4.8, 3.3, 4. , 2.4, 3.2, 3.6,\n",
       "       2.6, nan, 1.5, 3.5, 2.9, 1.3, 2.8, 3. , 2.2, 1.8, 1.4, 1.2, 1.9,\n",
       "       1.7, 1.6, 1. , 1.1])"
      ]
     },
     "execution_count": 58,
     "metadata": {},
     "output_type": "execute_result"
    }
   ],
   "source": [
    "df['Rating'].unique()"
   ]
  },
  {
   "cell_type": "code",
   "execution_count": 59,
   "id": "b17aedad",
   "metadata": {},
   "outputs": [
    {
     "data": {
      "text/plain": [
       "array([0.0000e+00, 6.4000e+01, 5.0000e+00, ..., 8.7553e+04, 7.5960e+04,\n",
       "       7.8351e+04])"
      ]
     },
     "execution_count": 59,
     "metadata": {},
     "output_type": "execute_result"
    }
   ],
   "source": [
    "df['Rating Count'].unique()"
   ]
  },
  {
   "cell_type": "markdown",
   "id": "1bd06a62",
   "metadata": {},
   "source": [
    "let's change the Rating Count to certain ranges for the better understanding the data"
   ]
  },
  {
   "cell_type": "code",
   "execution_count": 60,
   "id": "ef058a4d",
   "metadata": {},
   "outputs": [
    {
     "data": {
      "text/plain": [
       "138557570.0"
      ]
     },
     "execution_count": 60,
     "metadata": {},
     "output_type": "execute_result"
    }
   ],
   "source": [
    "df['Rating Count'].max()"
   ]
  },
  {
   "cell_type": "code",
   "execution_count": 61,
   "id": "6cea3587",
   "metadata": {},
   "outputs": [
    {
     "data": {
      "text/plain": [
       "Less than 10K           1192801\n",
       "NoRatingProvided        1082303\n",
       "Between 10K and 500K      35779\n",
       "More than 500K             1665\n",
       "Name: Rating Type, dtype: int64"
      ]
     },
     "execution_count": 61,
     "metadata": {},
     "output_type": "execute_result"
    }
   ],
   "source": [
    "df['Rating Type'] = 'NoRatingProvided'\n",
    "df.loc[(df['Rating Count'] > 0) & (df['Rating Count'] <= 10000.0),'Rating Type'] = 'Less than 10K'\n",
    "df.loc[(df['Rating Count'] > 10000) & (df['Rating Count'] <= 500000.0),'Rating Type'] = 'Between 10K and 500K'\n",
    "df.loc[(df['Rating Count'] > 500000) & (df['Rating Count'] <= 138557570.0),'Rating Type'] = 'More than 500K'\n",
    "df['Rating Type'].value_counts()"
   ]
  },
  {
   "cell_type": "code",
   "execution_count": 62,
   "id": "6286e9f6",
   "metadata": {},
   "outputs": [
    {
     "data": {
      "text/plain": [
       "0              NoRatingProvided\n",
       "1                 Less than 10K\n",
       "2              NoRatingProvided\n",
       "3                 Less than 10K\n",
       "4              NoRatingProvided\n",
       "                   ...         \n",
       "2312939    Between 10K and 500K\n",
       "2312940        NoRatingProvided\n",
       "2312941        NoRatingProvided\n",
       "2312942           Less than 10K\n",
       "2312943           Less than 10K\n",
       "Name: Rating Type, Length: 2312548, dtype: object"
      ]
     },
     "execution_count": 62,
     "metadata": {},
     "output_type": "execute_result"
    }
   ],
   "source": [
    "df['Rating Type']"
   ]
  },
  {
   "cell_type": "code",
   "execution_count": 63,
   "id": "788d0bce",
   "metadata": {},
   "outputs": [
    {
     "name": "stdout",
     "output_type": "stream",
     "text": [
      "<class 'pandas.core.frame.DataFrame'>\n",
      "Int64Index: 2312548 entries, 0 to 2312943\n",
      "Data columns (total 25 columns):\n",
      " #   Column             Dtype  \n",
      "---  ------             -----  \n",
      " 0   App Name           object \n",
      " 1   App Id             object \n",
      " 2   Category           object \n",
      " 3   Rating             float64\n",
      " 4   Rating Count       float64\n",
      " 5   Installs           int64  \n",
      " 6   Minimum Installs   float64\n",
      " 7   Maximum Installs   int64  \n",
      " 8   Price              float64\n",
      " 9   Currency           object \n",
      " 10  Size               float64\n",
      " 11  Minimum Android    object \n",
      " 12  Developer Id       object \n",
      " 13  Developer Website  object \n",
      " 14  Developer Email    object \n",
      " 15  Released           object \n",
      " 16  Last Updated       object \n",
      " 17  Content Rating     object \n",
      " 18  Privacy Policy     object \n",
      " 19  Ad Supported       bool   \n",
      " 20  In App Purchases   bool   \n",
      " 21  Editors Choice     bool   \n",
      " 22  Scraped Time       object \n",
      " 23  Type               object \n",
      " 24  Rating Type        object \n",
      "dtypes: bool(3), float64(5), int64(2), object(15)\n",
      "memory usage: 412.4+ MB\n"
     ]
    }
   ],
   "source": [
    "df.info()"
   ]
  },
  {
   "cell_type": "code",
   "execution_count": null,
   "id": "84f8a815",
   "metadata": {},
   "outputs": [],
   "source": []
  }
 ],
 "metadata": {
  "kernelspec": {
   "display_name": "Python 3 (ipykernel)",
   "language": "python",
   "name": "python3"
  },
  "language_info": {
   "codemirror_mode": {
    "name": "ipython",
    "version": 3
   },
   "file_extension": ".py",
   "mimetype": "text/x-python",
   "name": "python",
   "nbconvert_exporter": "python",
   "pygments_lexer": "ipython3",
   "version": "3.9.13"
  },
  "varInspector": {
   "cols": {
    "lenName": 16,
    "lenType": 16,
    "lenVar": 40
   },
   "kernels_config": {
    "python": {
     "delete_cmd_postfix": "",
     "delete_cmd_prefix": "del ",
     "library": "var_list.py",
     "varRefreshCmd": "print(var_dic_list())"
    },
    "r": {
     "delete_cmd_postfix": ") ",
     "delete_cmd_prefix": "rm(",
     "library": "var_list.r",
     "varRefreshCmd": "cat(var_dic_list()) "
    }
   },
   "types_to_exclude": [
    "module",
    "function",
    "builtin_function_or_method",
    "instance",
    "_Feature"
   ],
   "window_display": false
  }
 },
 "nbformat": 4,
 "nbformat_minor": 5
}
